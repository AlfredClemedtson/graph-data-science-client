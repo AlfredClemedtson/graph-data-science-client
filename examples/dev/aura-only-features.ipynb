{
 "cells": [
  {
   "cell_type": "markdown",
   "metadata": {
    "tags": [
     "aura"
    ]
   },
   "source": [
    "# It all starts with AuraDB\n",
    "\n",
    "The new Project 🍓 (Strawberry) is a new way to run GDS on data hosted in an AuraDB database.\n",
    "The way to do this currently in Aura is to copy the database over to an AuraDS instance.\n",
    "This detaches the data and the two databases will likely diverge almost immediately.\n",
    "It also has another couple of limitations:\n",
    "\n",
    "- It's very manual; users have to click in the Aura Console to copy the database\n",
    "- Once GDS computations are finished, writing back to the AuraDB instance is also a manual configuration\n",
    "- AuraDS instances have to be manually managed in the Aura Console and do not encourage users to delete them after usage, thus causing increased running costs\n",
    "\n",
    "With Project 🍓 we're addressing the top two limitations, and alleviating the final one a little bit.\n",
    "\n",
    "## AuraDB\n",
    "\n",
    "A base assumption is that there is an AuraDB already with data in it.\n",
    "In this notebook, we will illustrate just briefly what example data we are using."
   ]
  },
  {
   "cell_type": "code",
   "execution_count": null,
   "metadata": {},
   "outputs": [],
   "source": [
    "import os\n",
    "\n",
    "# AuraDB data ingestion\n",
    "from neo4j import GraphDatabase\n",
    "from graphdatascience.query_runner.aura_db_arrow_query_runner import AuraDbConnectionInfo\n",
    "\n",
    "# Aura environment\n",
    "os.environ[\"AURA_ENV\"] = \"devstrawberry\"\n",
    "\n",
    "# DB credentials\n",
    "db_id_and_pw = (\"fd4de318\", \"\")\n",
    "db_connection_info = AuraDbConnectionInfo(\n",
    "    f\"neo4j+s://{db_id_and_pw[0]}-{os.environ['AURA_ENV']}.databases.neo4j-dev.io\", (\"neo4j\", db_id_and_pw[1])\n",
    ")\n",
    "# start a Driver\n",
    "driver = GraphDatabase.driver(db_connection_info.uri, auth=db_connection_info.auth)\n",
    "\n",
    "# try out our connection\n",
    "with driver.session() as session:\n",
    "    display(session.run(\"RETURN true AS success\").to_df())"
   ]
  },
  {
   "cell_type": "code",
   "execution_count": null,
   "metadata": {},
   "outputs": [],
   "source": [
    "# Add some data\n",
    "with driver.session() as session:\n",
    "    session.run(\"CREATE CONSTRAINT users FOR (u:User) REQUIRE u.id IS NODE KEY\")\n",
    "    session.run(\n",
    "        \"\"\"\n",
    "        UNWIND range(0, 999) AS i\n",
    "        CREATE (:User {id: i, age: toInteger(rand() * 75)})\n",
    "        \"\"\"\n",
    "    ).consume()\n",
    "    session.run(\n",
    "        \"\"\"\n",
    "        UNWIND range(1, 8000) AS i\n",
    "        WITH toInteger(rand() * 1000) AS source, toInteger(rand() * 1000) AS target\n",
    "        MATCH (s:User {id: source})\n",
    "        MATCH (t:User {id: target})\n",
    "        CREATE (s)-[:KNOWS {since: 2020 - (rand() * 100)}]->(t)\n",
    "        \"\"\"\n",
    "    ).consume()"
   ]
  },
  {
   "cell_type": "code",
   "execution_count": null,
   "metadata": {},
   "outputs": [],
   "source": [
    "# Let's check what data we have\n",
    "with driver.session() as session:\n",
    "    print(f\"Number of nodes: {session.run('MATCH () RETURN count(*)').single().value()}\")\n",
    "    print(f\"Number of relationships: {session.run('MATCH ()-->() RETURN count(*)').single().value()}\")"
   ]
  },
  {
   "cell_type": "markdown",
   "metadata": {},
   "source": [
    "# A new database component: Arrow Server\n",
    "\n",
    "We have built a new piece of software into the Neo4j DBMS: an Arrow Server.\n",
    "It is akin to the already existing Bolt and HTTP servers, but it has a very specific purpose: projecting graphs to a remote location, and receiving results to write back to the database.\n",
    "\n",
    "With the Arrow Server comes one crucial new feature: an aggregating projection function.\n",
    "This aggregating function is called `gds.graph.project` and is very similar to Cypher projection v2 in standard GDS.\n",
    "There are two key differences between them:\n",
    "\n",
    "1. In AuraDB, the aggregating function does not take a graph name as a parameter.\n",
    "2. In AuraDB, the aggregating function does not project the graph to the local instance.\n",
    "\n",
    "The aggregating function is used in queries that look quite identical to those of Cypher projections v2, and are authored by the user.\n",
    "\n",
    "There is another function that comes with the Arrow Server, which is internal, undocumented, but is callable: `internal.arrow.status`.\n",
    "It is used as a crucial part of the GDS Python Client functionality for managing the AuraDB - GDS connection."
   ]
  },
  {
   "cell_type": "code",
   "execution_count": null,
   "metadata": {},
   "outputs": [],
   "source": [
    "# Let's call this function and see what it returns\n",
    "with driver.session() as session:\n",
    "    display(session.run(\"CALL internal.arrow.status\").to_df())"
   ]
  },
  {
   "cell_type": "markdown",
   "metadata": {},
   "source": [
    "# Aura API and GDS Python Client\n",
    "\n",
    "Apart from the extension to AuraDB, we have also added a new API to the GDS Python Client.\n",
    "This API is a Python frontend to the Aura API, as well as a set of internal management features for the AuraDB - GDS connection.\n",
    "In order to use the Aura API, the user needs to have Aura API credentials.\n",
    "These are generated in the Aura Console (under `Account settings`) and are a pair of strings: `CLIENT_ID` and `CLIENT_SECRET`.\n",
    "\n",
    "Using these credentials the full set of features offered by the GDS Python Client can be used.\n",
    "In particular, the features are:\n",
    "\n",
    "- Create a new GDS session\n",
    "- List all existing GDS sessions\n",
    "- (Re-)connect to an existing GDS session\n",
    "- Delete a GDS session\n",
    "\n",
    "We will illustrate what this looks like below.\n",
    "\n",
    "## Tenants\n",
    "\n",
    "If the user is a member of multiple tenants, then they also need to enter their tenant id, in order to disambiguate which tenant they want to use.\n",
    "In this notebook, we will use only a single tenant and omit the tenant id. \n"
   ]
  },
  {
   "cell_type": "code",
   "execution_count": null,
   "metadata": {},
   "outputs": [],
   "source": [
    "# Initialise Aura API credentials\n",
    "CLIENT_ID = os.environ.get(\"CLIENT_ID\")\n",
    "CLIENT_SECRET = os.environ.get(\"CLIENT_SECRET\")"
   ]
  },
  {
   "cell_type": "code",
   "execution_count": null,
   "metadata": {},
   "outputs": [],
   "source": [
    "# The new stuff!\n",
    "from graphdatascience.aura_sessions import AuraSessions\n",
    "\n",
    "# Create a new AuraSessions object\n",
    "sessions = AuraSessions(db_connection_info, (CLIENT_ID, CLIENT_SECRET))\n",
    "\n",
    "# List our current sessions\n",
    "sessions.list_sessions()"
   ]
  },
  {
   "cell_type": "code",
   "execution_count": null,
   "metadata": {},
   "outputs": [],
   "source": [
    "# Let's create a GDS session!\n",
    "# This takes a few minutes to complete\n",
    "gds = sessions.create_gds(\"pagerank-compute\", \"my-password\")"
   ]
  },
  {
   "cell_type": "code",
   "execution_count": null,
   "metadata": {},
   "outputs": [],
   "source": [
    "# Since that takes a little bit of time, let's instead reconnect to an existing session\n",
    "gds = sessions.connect(\"pagerank-compute\", \"my-password\")"
   ]
  },
  {
   "cell_type": "markdown",
   "metadata": {},
   "source": [
    "# The GDS session\n",
    "\n",
    "A key new concept is the GDS session.\n",
    "This takes the place of an AuraDS instance.\n",
    "(In fact, it is exactly an AuraDS instance at this time, but we don't want to expose that to the user.\n",
    "They should think of it as a GDS session and a separate thing, as much as possible.)\n",
    "The GDS session offers all the GDS functionality that we are familiar with from AuraDS.\n",
    "However, since the idea is to offload database work to AuraDB, the GDS session is not to be considered a database instance.\n",
    "\n",
    "That means that all projections will go from AuraDB to GDS session, not from a local database.\n",
    "Similarly, writing back will follow the same path back to AuraDB, and not to a local database.\n",
    "\n",
    "## Implementation limitation\n",
    "\n",
    "As mentioned in the parenthesis above, we do make use of existing AuraDS infrastructure to host the GDS sessions.\n",
    "Due to that fact, there actually is a local database, but we try to not expose its Bolt URI, in an attempt to prohibit users adding data to that database. "
   ]
  },
  {
   "cell_type": "code",
   "execution_count": null,
   "metadata": {},
   "outputs": [],
   "source": [
    "# The `gds` object that we get back from both `create_gds` and `connect` is a GraphDataScience object\n",
    "gds.version()"
   ]
  },
  {
   "cell_type": "code",
   "execution_count": null,
   "metadata": {},
   "outputs": [],
   "source": [
    "# Project a graph from AuraDB to GDS\n",
    "G, result = gds.graph.project.remoteDb(\n",
    "    \"pagerank-graph\",\n",
    "    \"\"\"\n",
    "    MATCH (u:User) \n",
    "    OPTIONAL MATCH (u)-[r:KNOWS]->(target:User) \n",
    "    RETURN gds.graph.project.remote(u, target, {\n",
    "      sourceNodeProperties: {age: u.age},\n",
    "      targetNodeProperties: {age: target.age},\n",
    "      sourceNodeLabels: labels(u),\n",
    "      targetNodeLabels: labels(target),\n",
    "      relationshipType: 'KNOWS',\n",
    "      relationshipProperties: {since: r.since}\n",
    "    })\n",
    "    \"\"\",\n",
    ")\n",
    "\n",
    "print(result)"
   ]
  },
  {
   "cell_type": "code",
   "execution_count": null,
   "metadata": {},
   "outputs": [],
   "source": [
    "# At this stage, we have a projected graph and we can do all of our normal GDS operations\n",
    "# In this notebook, we will run PageRank\n",
    "\n",
    "print(\"Running PageRank ...\")\n",
    "pr_result = gds.pageRank.mutate(G, mutateProperty=\"pagerank\")\n",
    "print(f\"Compute millis: {pr_result['computeMillis']}\")\n",
    "print(f\"Node properties written: {pr_result['nodePropertiesWritten']}\")\n",
    "print(f\"Centrality distribution: {pr_result['centralityDistribution']}\")\n",
    "\n",
    "# And then we will run FastRP on that\n",
    "print(\"Running FastRP ...\")\n",
    "frp_result = gds.fastRP.mutate(\n",
    "    G,\n",
    "    mutateProperty=\"fastRP\",\n",
    "    embeddingDimension=64,\n",
    "    featureProperties=[\"pagerank\"],\n",
    "    propertyRatio=0.2,\n",
    "    nodeSelfInfluence=0.2,\n",
    ")\n",
    "print(f\"Compute millis: {frp_result['computeMillis']}\")\n",
    "print(f\"Node properties written: {frp_result['nodePropertiesWritten']}\")"
   ]
  },
  {
   "cell_type": "code",
   "execution_count": null,
   "metadata": {},
   "outputs": [],
   "source": [
    "gds.graph.nodeProperties.write(G, \"pagerank\")"
   ]
  },
  {
   "cell_type": "code",
   "execution_count": null,
   "metadata": {},
   "outputs": [],
   "source": [
    "# Now let's turn back to AuraDB and see what we have\n",
    "with driver.session() as session:\n",
    "    display(session.run(\"MATCH (u:User) RETURN u.pagerank\").to_df())"
   ]
  },
  {
   "cell_type": "markdown",
   "metadata": {},
   "source": [
    "# Conclusion\n",
    "\n",
    "So, this is what Project 🍓 is all about.\n",
    "We can create GDS sessions, project graphs from AuraDB, compute with GDS, and write back to AuraDB (well... almost).\n",
    "We can also delete GDS sessions, which will delete the AuraDS instance that was created for it."
   ]
  },
  {
   "cell_type": "code",
   "execution_count": null,
   "metadata": {},
   "outputs": [],
   "source": [
    "sessions.delete_gds(\"pagerank-compute\")"
   ]
  },
  {
   "cell_type": "code",
   "execution_count": null,
   "metadata": {},
   "outputs": [],
   "source": [
    "# Drop the projected graph\n",
    "gds.graph.get(\"pagerank-graph\").drop()"
   ]
  },
  {
   "cell_type": "code",
   "execution_count": null,
   "metadata": {},
   "outputs": [],
   "source": [
    "# CLEAN UP ALL DATA IN AURADB DATABASE\n",
    "\n",
    "with driver.session() as session:\n",
    "    print(session.run(\"MATCH (n) DETACH DELETE n\").single())"
   ]
  },
  {
   "cell_type": "code",
   "execution_count": null,
   "metadata": {},
   "outputs": [],
   "source": [
    "# Increase pandas display width\n",
    "import pandas as pd\n",
    "\n",
    "pd.set_option(\"display.max_colwidth\", None)"
   ]
  }
 ],
 "metadata": {
  "kernelspec": {
   "display_name": "Python 3",
   "language": "python",
   "name": "python3"
  },
  "language_info": {
   "name": "python",
   "version": "3.11.6"
  }
 },
 "nbformat": 4,
 "nbformat_minor": 2
}
