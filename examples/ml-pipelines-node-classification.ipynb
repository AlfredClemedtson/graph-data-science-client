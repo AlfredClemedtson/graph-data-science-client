{
 "cells": [
  {
   "cell_type": "markdown",
   "metadata": {
    "colab_type": "text",
    "id": "view-in-github"
   },
   "source": [
    "<a href=\"https://colab.research.google.com/github/neo4j/graph-data-science-client/blob/main/examples/ml-pipelines-node-classification.ipynb.ipynb\" target=\"_parent\"><img src=\"https://colab.research.google.com/assets/colab-badge.svg\" alt=\"Open In Colab\"/></a>"
   ]
  },
  {
   "cell_type": "markdown",
   "metadata": {
    "id": "KhH0v_bwUrXp"
   },
   "source": [
    "# Machine learning pipelines: Node classification\n",
    "\n",
    "This notebook shows the usage of GDS machine learning pipelines with the Python client and the well-known Cora dataset."
   ]
  },
  {
   "cell_type": "markdown",
   "metadata": {
    "id": "X5ttqidnWPTC"
   },
   "source": [
    "## Setup\n",
    "\n",
    "We need an environment where Neo4j and GDS are available, for example AuraDS (which comes with GDS preinstalled) or Neo4j Desktop. \n",
    "\n",
    "Once the credentials to access this environment are available, we can install the `graphdatascience` package and import the client class."
   ]
  },
  {
   "cell_type": "code",
   "execution_count": null,
   "metadata": {
    "id": "izJD_HlcAdQ0"
   },
   "outputs": [],
   "source": [
    "%pip install graphdatascience"
   ]
  },
  {
   "cell_type": "code",
   "execution_count": 2,
   "metadata": {},
   "outputs": [
    {
     "name": "stderr",
     "output_type": "stream",
     "text": [
      "/Users/nvitucci/github/graph-data-science-client_nvitucci/venv/lib/python3.10/site-packages/tqdm/auto.py:22: TqdmWarning: IProgress not found. Please update jupyter and ipywidgets. See https://ipywidgets.readthedocs.io/en/stable/user_install.html\n",
      "  from .autonotebook import tqdm as notebook_tqdm\n"
     ]
    }
   ],
   "source": [
    "from graphdatascience import GraphDataScience"
   ]
  },
  {
   "cell_type": "markdown",
   "metadata": {},
   "source": [
    "When using a local Neo4j setup, the default connection URI is `bolt://localhost:7687`. When using AuraDS, the connection URI is slightly different as it uses the `neo4j+s` protocol. In this case, the client should also include the `aura_ds=True` flag to enable AuraDS-recommended settings."
   ]
  },
  {
   "cell_type": "code",
   "execution_count": 5,
   "metadata": {
    "id": "gJLQgHK_AghP"
   },
   "outputs": [],
   "source": [
    "# Replace with the actual connection URI and credentials\n",
    "NEO4J_CONNECTION_URI = \"bolt://localhost:7687\"\n",
    "NEO4J_USERNAME = \"neo4j\"\n",
    "NEO4J_PASSWORD = \"test\"\n",
    "\n",
    "gds = GraphDataScience(NEO4J_CONNECTION_URI, auth=(NEO4J_USERNAME, NEO4J_PASSWORD))\n",
    "\n",
    "# On AuraDS:\n",
    "#\n",
    "# NEO4J_CONNECTION_URI = \"neo4j+s://xxxxxxxx.databases.neo4j.io\"\n",
    "# NEO4J_USERNAME = \"neo4j\"\n",
    "# NEO4J_PASSWORD = \"...\"\n",
    "#\n",
    "# gds = GraphDataScience(NEO4J_CONNECTION_URI, auth=(NEO4J_USERNAME, NEO4J_PASSWORD), aura_ds=True)"
   ]
  },
  {
   "cell_type": "markdown",
   "metadata": {
    "id": "zOK08QpoWFKv"
   },
   "source": [
    "We import `json` to help in writing the Cypher queries used to load the data, and `numpy` and `pandas` for further data processing."
   ]
  },
  {
   "cell_type": "code",
   "execution_count": 6,
   "metadata": {
    "id": "-ikcvI-cSDoK"
   },
   "outputs": [],
   "source": [
    "import json\n",
    "\n",
    "import numpy as np\n",
    "import pandas as pd"
   ]
  },
  {
   "cell_type": "markdown",
   "metadata": {
    "id": "oDE2LqTXAmy8"
   },
   "source": [
    "## Load the Cora dataset\n",
    "\n",
    "First of all, we need to load the Cora dataset on Neo4j. The CSV files can be found at the following URIs:"
   ]
  },
  {
   "cell_type": "code",
   "execution_count": 7,
   "metadata": {
    "id": "tOZW-I2FBLm_"
   },
   "outputs": [],
   "source": [
    "CORA_CONTENT = (\n",
    "    \"https://raw.githubusercontent.com/neo4j/graph-data-science/master/test-utils/src/main/resources/cora.content\"\n",
    ")\n",
    "CORA_CITES = (\n",
    "    \"https://raw.githubusercontent.com/neo4j/graph-data-science/master/test-utils/src/main/resources/cora.cites\"\n",
    ")"
   ]
  },
  {
   "cell_type": "markdown",
   "metadata": {},
   "source": [
    "Upon loading, we also need to perform an additional preprocessing step to convert the `subject` field (which is a string in the dataset) into an integer, because node properties have to be numerical in order to be projected into a graph; although we could assign consecutive IDs, we assign an ID other than 0 to the first class to show how the classes are represented in the model.\n",
    "\n",
    "We also select a number of nodes to be held out to test the model after it has been trained. **NOTE:** This is not related to the algorithm test/split ratio."
   ]
  },
  {
   "cell_type": "code",
   "execution_count": 8,
   "metadata": {
    "id": "ZwPI7OHSGj1L"
   },
   "outputs": [],
   "source": [
    "SUBJECT_TO_ID = {\n",
    "    \"Neural_Networks\": 100,\n",
    "    \"Rule_Learning\": 1,\n",
    "    \"Reinforcement_Learning\": 2,\n",
    "    \"Probabilistic_Methods\": 3,\n",
    "    \"Theory\": 4,\n",
    "    \"Genetic_Algorithms\": 5,\n",
    "    \"Case_Based\": 6,\n",
    "}\n",
    "\n",
    "HOLDOUT_NODES = 10"
   ]
  },
  {
   "cell_type": "markdown",
   "metadata": {},
   "source": [
    "We can now load the CSV files using the `LOAD CSV` statement and some basic data transformation:"
   ]
  },
  {
   "cell_type": "code",
   "execution_count": 9,
   "metadata": {
    "id": "d_p_Npg3ecyz"
   },
   "outputs": [
    {
     "data": {
      "text/html": [
       "<div>\n",
       "<style scoped>\n",
       "    .dataframe tbody tr th:only-of-type {\n",
       "        vertical-align: middle;\n",
       "    }\n",
       "\n",
       "    .dataframe tbody tr th {\n",
       "        vertical-align: top;\n",
       "    }\n",
       "\n",
       "    .dataframe thead th {\n",
       "        text-align: right;\n",
       "    }\n",
       "</style>\n",
       "<table border=\"1\" class=\"dataframe\">\n",
       "  <thead>\n",
       "    <tr style=\"text-align: right;\">\n",
       "      <th></th>\n",
       "    </tr>\n",
       "  </thead>\n",
       "  <tbody>\n",
       "  </tbody>\n",
       "</table>\n",
       "</div>"
      ],
      "text/plain": [
       "Empty DataFrame\n",
       "Columns: []\n",
       "Index: []"
      ]
     },
     "execution_count": 9,
     "metadata": {},
     "output_type": "execute_result"
    }
   ],
   "source": [
    "# Define a string representation of the SUBJECT_TO_ID map using backticks\n",
    "subject_map = json.dumps(SUBJECT_TO_ID).replace('\"', \"`\")\n",
    "\n",
    "# Cypher command to load the nodes using `LOAD CSV`, taking care of\n",
    "# converting the string `subject` field into an integer and\n",
    "# replacing the node label for the holdout nodes\n",
    "load_nodes = f\"\"\"\n",
    "    LOAD CSV FROM \"{CORA_CONTENT}\" AS row\n",
    "    WITH \n",
    "      {subject_map} AS subject_to_id,\n",
    "      toInteger(row[0]) AS extId, \n",
    "      row[1] AS subject, \n",
    "      toIntegerList(row[2..]) AS features\n",
    "    MERGE (p:Paper {{extId: extId, subject: subject_to_id[subject], features: features}})\n",
    "    WITH p LIMIT {HOLDOUT_NODES}\n",
    "    REMOVE p:Paper\n",
    "    SET p:UnclassifiedPaper\n",
    "\"\"\"\n",
    "\n",
    "# Cypher command to load the relationships using `LOAD CSV`\n",
    "load_relationships = f\"\"\"\n",
    "    LOAD CSV FROM \"{CORA_CITES}\" AS row\n",
    "    MATCH (n), (m) \n",
    "    WHERE n.extId = toInteger(row[0]) AND m.extId = toInteger(row[1])\n",
    "    MERGE (n)-[:CITES]->(m)\n",
    "\"\"\"\n",
    "\n",
    "# Load nodes and relationships on Neo4j\n",
    "gds.run_cypher(load_nodes)\n",
    "gds.run_cypher(load_relationships)"
   ]
  },
  {
   "cell_type": "markdown",
   "metadata": {
    "id": "AmFOLcCunfXB"
   },
   "source": [
    "With the data loaded on Neo4j, we can now project a graph including all the nodes and the `CITES` relationship as undirected (and with `SINGLE` aggregation, to skip repeated relationships as a result of adding the inverse direction)."
   ]
  },
  {
   "cell_type": "code",
   "execution_count": 10,
   "metadata": {
    "id": "KdMPbSQ9OKZ6"
   },
   "outputs": [
    {
     "name": "stderr",
     "output_type": "stream",
     "text": [
      "Loading: 100%|██████████| 100.0/100 [00:01<00:00, 76.26%/s] \n"
     ]
    }
   ],
   "source": [
    "# Create the projected graph containing both classified and unclassified nodes\n",
    "G, _ = gds.graph.project(\n",
    "    \"cora-graph\",\n",
    "    {\"Paper\": {\"properties\": [\"features\", \"subject\"]}, \"UnclassifiedPaper\": {\"properties\": [\"features\"]}},\n",
    "    {\"CITES\": {\"orientation\": \"UNDIRECTED\", \"aggregation\": \"SINGLE\"}},\n",
    ")"
   ]
  },
  {
   "cell_type": "markdown",
   "metadata": {},
   "source": [
    "Then we can check the number of nodes in the newly-projected graph (which should be 2708), just to make sure it has been created correctly:"
   ]
  },
  {
   "cell_type": "code",
   "execution_count": 23,
   "metadata": {},
   "outputs": [],
   "source": [
    "assert G.node_count() == 2708"
   ]
  },
  {
   "cell_type": "markdown",
   "metadata": {
    "id": "uGWiTTrGN-Be"
   },
   "source": [
    "## Pipeline catalog basics\n",
    "\n",
    "Once the dataset has been loaded, we can define a node classification machine learning pipeline."
   ]
  },
  {
   "cell_type": "code",
   "execution_count": 11,
   "metadata": {
    "id": "mP64bLMxN_IB"
   },
   "outputs": [],
   "source": [
    "# Create the pipeline\n",
    "node_pipeline, _ = gds.beta.pipeline.nodeClassification.create(\"cora-pipeline\")"
   ]
  },
  {
   "cell_type": "markdown",
   "metadata": {},
   "source": [
    "We can check that the pipeline has actually been created with the `list` method:"
   ]
  },
  {
   "cell_type": "code",
   "execution_count": 12,
   "metadata": {
    "id": "jguecWUjQ6DV"
   },
   "outputs": [
    {
     "data": {
      "text/html": [
       "<div>\n",
       "<style scoped>\n",
       "    .dataframe tbody tr th:only-of-type {\n",
       "        vertical-align: middle;\n",
       "    }\n",
       "\n",
       "    .dataframe tbody tr th {\n",
       "        vertical-align: top;\n",
       "    }\n",
       "\n",
       "    .dataframe thead th {\n",
       "        text-align: right;\n",
       "    }\n",
       "</style>\n",
       "<table border=\"1\" class=\"dataframe\">\n",
       "  <thead>\n",
       "    <tr style=\"text-align: right;\">\n",
       "      <th></th>\n",
       "      <th>pipelineInfo</th>\n",
       "      <th>pipelineName</th>\n",
       "      <th>pipelineType</th>\n",
       "      <th>creationTime</th>\n",
       "    </tr>\n",
       "  </thead>\n",
       "  <tbody>\n",
       "    <tr>\n",
       "      <th>0</th>\n",
       "      <td>{'featurePipeline': {'nodePropertySteps': [], ...</td>\n",
       "      <td>cora-pipeline</td>\n",
       "      <td>Node classification training pipeline</td>\n",
       "      <td>2022-12-08T23:02:30.493506000+00:00</td>\n",
       "    </tr>\n",
       "  </tbody>\n",
       "</table>\n",
       "</div>"
      ],
      "text/plain": [
       "                                        pipelineInfo   pipelineName  \\\n",
       "0  {'featurePipeline': {'nodePropertySteps': [], ...  cora-pipeline   \n",
       "\n",
       "                            pipelineType                         creationTime  \n",
       "0  Node classification training pipeline  2022-12-08T23:02:30.493506000+00:00  "
      ]
     },
     "execution_count": 12,
     "metadata": {},
     "output_type": "execute_result"
    }
   ],
   "source": [
    "# List all pipelines\n",
    "gds.beta.pipeline.list()\n",
    "\n",
    "# Get the details of a specific pipeline object\n",
    "gds.beta.pipeline.list(node_pipeline)"
   ]
  },
  {
   "cell_type": "markdown",
   "metadata": {
    "id": "Cil3MMlTtZ7L"
   },
   "source": [
    "## Configure the pipeline\n",
    "\n",
    "We can now configure the pipeline. As a reminder, we need to:\n",
    "\n",
    "1. Select a subset of the available node properties to be used as features for the machine learning model\n",
    "1. Configure the train/test split and the number of folds for k-fold cross-validation _(optional)_\n",
    "1. Configure the candidate models for training"
   ]
  },
  {
   "cell_type": "code",
   "execution_count": 13,
   "metadata": {
    "id": "PcTDdBnxOA0y"
   },
   "outputs": [
    {
     "data": {
      "text/plain": [
       "name                                                     cora-pipeline\n",
       "nodePropertySteps                                                   []\n",
       "featureProperties                                           [features]\n",
       "splitConfig                {'testFraction': 0.3, 'validationFolds': 3}\n",
       "autoTuningConfig                                     {'maxTrials': 10}\n",
       "parameterSpace       {'MultilayerPerceptron': [], 'RandomForest': [...\n",
       "Name: 0, dtype: object"
      ]
     },
     "execution_count": 13,
     "metadata": {},
     "output_type": "execute_result"
    }
   ],
   "source": [
    "# \"Mark\" some node properties that will be used as features\n",
    "node_pipeline.selectFeatures([\"features\"])"
   ]
  },
  {
   "cell_type": "code",
   "execution_count": 14,
   "metadata": {
    "id": "s8ar00tHEmt5"
   },
   "outputs": [
    {
     "data": {
      "text/plain": [
       "name                                                     cora-pipeline\n",
       "nodePropertySteps                                                   []\n",
       "featureProperties                                           [features]\n",
       "splitConfig                {'testFraction': 0.2, 'validationFolds': 5}\n",
       "autoTuningConfig                                     {'maxTrials': 10}\n",
       "parameterSpace       {'MultilayerPerceptron': [], 'RandomForest': [...\n",
       "Name: 0, dtype: object"
      ]
     },
     "execution_count": 14,
     "metadata": {},
     "output_type": "execute_result"
    }
   ],
   "source": [
    "# If needed, change the train/test split ratio and the number of folds\n",
    "# for k-fold cross-validation\n",
    "node_pipeline.configureSplit(testFraction=0.2, validationFolds=5)"
   ]
  },
  {
   "cell_type": "markdown",
   "metadata": {
    "id": "_Jtfr236EO0N"
   },
   "source": [
    "Here we use Logistic Regression as an example for the training, but other algorithms (such as Random Forest) are available as well.\n",
    "\n",
    "Some hyperparameters such as `penalty` can be single values or ranges. If they are expressed as ranges, auto-tuning is used to search their best value."
   ]
  },
  {
   "cell_type": "code",
   "execution_count": 15,
   "metadata": {
    "id": "vA2jFvx-OHSS"
   },
   "outputs": [
    {
     "data": {
      "text/plain": [
       "name                                                     cora-pipeline\n",
       "nodePropertySteps                                                   []\n",
       "featureProperties                                           [features]\n",
       "splitConfig                {'testFraction': 0.2, 'validationFolds': 5}\n",
       "autoTuningConfig                                     {'maxTrials': 10}\n",
       "parameterSpace       {'MultilayerPerceptron': [], 'RandomForest': [...\n",
       "Name: 0, dtype: object"
      ]
     },
     "execution_count": 15,
     "metadata": {},
     "output_type": "execute_result"
    }
   ],
   "source": [
    "# Add a model candidate to train\n",
    "node_pipeline.addLogisticRegression(maxEpochs=1000, penalty=(0.00038, 0.00042))"
   ]
  },
  {
   "cell_type": "markdown",
   "metadata": {
    "id": "qFIfl6yYXQgY"
   },
   "source": [
    "## Run the training\n",
    "\n",
    "It is now possible to train the configured models. We also run a training estimate, to make sure there are enough resources to run the actual training afterwards.\n",
    "\n",
    "The Node Classification model supports several evaluation metrics. Here we use the global metric `F1_WEIGHTED`.\n",
    "\n",
    "**NOTE:** The `concurrency` parameter is explicitly set to 4 (the default value) for demonstration purposes. \n",
    "The maximum concurrency in the library is limited to 4 for Neo4j Community Edition."
   ]
  },
  {
   "cell_type": "code",
   "execution_count": 17,
   "metadata": {
    "id": "N5Eey0EsOXiG"
   },
   "outputs": [
    {
     "data": {
      "text/plain": [
       "requiredMemory                                     [64 MiB ... 64 MiB]\n",
       "treeView             Memory Estimation: [64 MiB ... 64 MiB]\\n|-- al...\n",
       "mapView              {'components': [{'components': [{'components':...\n",
       "bytesMin                                                      67610384\n",
       "bytesMax                                                      67642344\n",
       "nodeCount                                                         2698\n",
       "relationshipCount                                                10502\n",
       "heapPercentageMin                                                  0.1\n",
       "heapPercentageMax                                                  0.1\n",
       "Name: 0, dtype: object"
      ]
     },
     "execution_count": 17,
     "metadata": {},
     "output_type": "execute_result"
    }
   ],
   "source": [
    "# Estimate the resources needed for training the model\n",
    "node_pipeline.train_estimate(\n",
    "    G,\n",
    "    targetNodeLabels=[\"Paper\"],\n",
    "    modelName=\"cora-pipeline-model\",\n",
    "    targetProperty=\"subject\",\n",
    "    metrics=[\"F1_WEIGHTED\"],\n",
    "    randomSeed=42,\n",
    "    concurrency=4,\n",
    ")"
   ]
  },
  {
   "cell_type": "code",
   "execution_count": 19,
   "metadata": {
    "colab": {
     "background_save": true
    },
    "id": "GVInjJHwOexk"
   },
   "outputs": [
    {
     "name": "stderr",
     "output_type": "stream",
     "text": [
      "Node Classification Train Pipeline: 100%|██████████| 100.0/100 [09:56<00:00,  5.97s/%]\n"
     ]
    }
   ],
   "source": [
    "# Perform the actual training\n",
    "model, stats = node_pipeline.train(\n",
    "    G,\n",
    "    targetNodeLabels=[\"Paper\"],\n",
    "    modelName=\"cora-pipeline-model\",\n",
    "    targetProperty=\"subject\",\n",
    "    metrics=[\"F1_WEIGHTED\"],\n",
    "    randomSeed=42,\n",
    "    concurrency=4,\n",
    ")"
   ]
  },
  {
   "cell_type": "markdown",
   "metadata": {
    "id": "kxYPHz6seMEn"
   },
   "source": [
    "We can inspect the result of the training, for example to print the evaluation metrics of the trained model."
   ]
  },
  {
   "cell_type": "code",
   "execution_count": 24,
   "metadata": {
    "colab": {
     "background_save": true
    },
    "id": "B1pvnkbSZK9A"
   },
   "outputs": [
    {
     "data": {
      "text/plain": [
       "0.7367307528092472"
      ]
     },
     "execution_count": 24,
     "metadata": {},
     "output_type": "execute_result"
    }
   ],
   "source": [
    "# Uncomment to print all stats\n",
    "# print(stats.to_json(indent=2))\n",
    "\n",
    "# Print F1_WEIGHTED metric\n",
    "stats[\"modelInfo\"][\"metrics\"][\"F1_WEIGHTED\"][\"test\"]"
   ]
  },
  {
   "cell_type": "markdown",
   "metadata": {
    "id": "QBEfXROYfNES"
   },
   "source": [
    "## Use the model for prediction\n",
    "\n",
    "After the model has been trained, it is possible to use it to classify unclassified data. \n",
    "\n",
    "One simple way to use the `predict` mode is to just stream the result of the prediction. This can be impractical when a graph is very large, so it should be used only for experimentation purposes."
   ]
  },
  {
   "cell_type": "markdown",
   "metadata": {
    "id": "Ryg5xlPBwE3d"
   },
   "source": [
    "In this example we use the `nodeLabels=[\"UnclassifiedPaper\"]` filter to only run prediction on the unclassified nodes. It must be noted that, when using models that have `nodePropertySteps` that use relationships (such as FastRP and other models that create embeddings, but also algorithms like PageRank), the `nodeLabels` filter should not be used because it would \"cut out\" all the linked nodes that have a different label. We will see an example of this in the following section."
   ]
  },
  {
   "cell_type": "code",
   "execution_count": 26,
   "metadata": {
    "colab": {
     "background_save": true
    },
    "id": "92XksLN9Om4l"
   },
   "outputs": [],
   "source": [
    "predicted = model.predict_stream(\n",
    "    G, modelName=\"cora-pipeline-model\", includePredictedProbabilities=True, targetNodeLabels=[\"UnclassifiedPaper\"]\n",
    ")"
   ]
  },
  {
   "cell_type": "markdown",
   "metadata": {
    "id": "knLyBCSUgR2-"
   },
   "source": [
    "The result of the prediction is a DataFrame containing the predicted class and the predicted probabilities for all the classes for each node."
   ]
  },
  {
   "cell_type": "code",
   "execution_count": 27,
   "metadata": {
    "colab": {
     "background_save": true
    },
    "id": "pw5AmIAW7rBT"
   },
   "outputs": [
    {
     "data": {
      "text/html": [
       "<div>\n",
       "<style scoped>\n",
       "    .dataframe tbody tr th:only-of-type {\n",
       "        vertical-align: middle;\n",
       "    }\n",
       "\n",
       "    .dataframe tbody tr th {\n",
       "        vertical-align: top;\n",
       "    }\n",
       "\n",
       "    .dataframe thead th {\n",
       "        text-align: right;\n",
       "    }\n",
       "</style>\n",
       "<table border=\"1\" class=\"dataframe\">\n",
       "  <thead>\n",
       "    <tr style=\"text-align: right;\">\n",
       "      <th></th>\n",
       "      <th>nodeId</th>\n",
       "      <th>predictedClass</th>\n",
       "      <th>predictedProbabilities</th>\n",
       "    </tr>\n",
       "  </thead>\n",
       "  <tbody>\n",
       "    <tr>\n",
       "      <th>0</th>\n",
       "      <td>0</td>\n",
       "      <td>100</td>\n",
       "      <td>[0.01361877434161338, 0.0008177054013954495, 0...</td>\n",
       "    </tr>\n",
       "    <tr>\n",
       "      <th>1</th>\n",
       "      <td>1</td>\n",
       "      <td>1</td>\n",
       "      <td>[0.31864827446240307, 0.026098761297171216, 0....</td>\n",
       "    </tr>\n",
       "    <tr>\n",
       "      <th>2</th>\n",
       "      <td>2</td>\n",
       "      <td>2</td>\n",
       "      <td>[0.007710767899246513, 0.766314905140325, 0.00...</td>\n",
       "    </tr>\n",
       "    <tr>\n",
       "      <th>3</th>\n",
       "      <td>3</td>\n",
       "      <td>2</td>\n",
       "      <td>[0.0035000391022356513, 0.9768116873834237, 0....</td>\n",
       "    </tr>\n",
       "    <tr>\n",
       "      <th>4</th>\n",
       "      <td>4</td>\n",
       "      <td>3</td>\n",
       "      <td>[0.030847881084031987, 0.0013559744680570276, ...</td>\n",
       "    </tr>\n",
       "    <tr>\n",
       "      <th>5</th>\n",
       "      <td>5</td>\n",
       "      <td>1</td>\n",
       "      <td>[0.27506093698192285, 0.2660508673427692, 0.09...</td>\n",
       "    </tr>\n",
       "    <tr>\n",
       "      <th>6</th>\n",
       "      <td>6</td>\n",
       "      <td>6</td>\n",
       "      <td>[0.017773776963205926, 0.0607078611969441, 0.0...</td>\n",
       "    </tr>\n",
       "    <tr>\n",
       "      <th>7</th>\n",
       "      <td>7</td>\n",
       "      <td>100</td>\n",
       "      <td>[0.0028360075434722665, 0.004250369599202613, ...</td>\n",
       "    </tr>\n",
       "    <tr>\n",
       "      <th>8</th>\n",
       "      <td>8</td>\n",
       "      <td>100</td>\n",
       "      <td>[0.018410346867102398, 0.026196141169875405, 0...</td>\n",
       "    </tr>\n",
       "    <tr>\n",
       "      <th>9</th>\n",
       "      <td>9</td>\n",
       "      <td>4</td>\n",
       "      <td>[0.0115155848742497, 0.3317480405930409, 0.002...</td>\n",
       "    </tr>\n",
       "  </tbody>\n",
       "</table>\n",
       "</div>"
      ],
      "text/plain": [
       "   nodeId  predictedClass                             predictedProbabilities\n",
       "0       0             100  [0.01361877434161338, 0.0008177054013954495, 0...\n",
       "1       1               1  [0.31864827446240307, 0.026098761297171216, 0....\n",
       "2       2               2  [0.007710767899246513, 0.766314905140325, 0.00...\n",
       "3       3               2  [0.0035000391022356513, 0.9768116873834237, 0....\n",
       "4       4               3  [0.030847881084031987, 0.0013559744680570276, ...\n",
       "5       5               1  [0.27506093698192285, 0.2660508673427692, 0.09...\n",
       "6       6               6  [0.017773776963205926, 0.0607078611969441, 0.0...\n",
       "7       7             100  [0.0028360075434722665, 0.004250369599202613, ...\n",
       "8       8             100  [0.018410346867102398, 0.026196141169875405, 0...\n",
       "9       9               4  [0.0115155848742497, 0.3317480405930409, 0.002..."
      ]
     },
     "execution_count": 27,
     "metadata": {},
     "output_type": "execute_result"
    }
   ],
   "source": [
    "predicted"
   ]
  },
  {
   "cell_type": "markdown",
   "metadata": {
    "id": "lJ2iADIDgwmH"
   },
   "source": [
    "The order of the classes in the `predictedProbabilities` field is given in the model information, and can be used to retrieve the predicted probability for the predicted class."
   ]
  },
  {
   "cell_type": "code",
   "execution_count": 28,
   "metadata": {
    "colab": {
     "background_save": true
    },
    "id": "lbxPNQsg4ByD"
   },
   "outputs": [
    {
     "name": "stdout",
     "output_type": "stream",
     "text": [
      "[1, 2, 3, 4, 5, 6, 100]\n"
     ]
    }
   ],
   "source": [
    "classes = stats[\"modelInfo\"][\"classes\"]\n",
    "print(classes)"
   ]
  },
  {
   "cell_type": "code",
   "execution_count": 29,
   "metadata": {
    "colab": {
     "background_save": true
    },
    "id": "YkkX3JPz7uxA"
   },
   "outputs": [],
   "source": [
    "# Calculate the confidence percentage for the predicted class\n",
    "predicted[\"confidence\"] = predicted.apply(\n",
    "    lambda row: np.floor(row[\"predictedProbabilities\"][classes.index(row[\"predictedClass\"])] * 100), axis=1\n",
    ")"
   ]
  },
  {
   "cell_type": "code",
   "execution_count": 30,
   "metadata": {
    "colab": {
     "background_save": true
    },
    "id": "L8pUbVA7-F98"
   },
   "outputs": [
    {
     "data": {
      "text/html": [
       "<div>\n",
       "<style scoped>\n",
       "    .dataframe tbody tr th:only-of-type {\n",
       "        vertical-align: middle;\n",
       "    }\n",
       "\n",
       "    .dataframe tbody tr th {\n",
       "        vertical-align: top;\n",
       "    }\n",
       "\n",
       "    .dataframe thead th {\n",
       "        text-align: right;\n",
       "    }\n",
       "</style>\n",
       "<table border=\"1\" class=\"dataframe\">\n",
       "  <thead>\n",
       "    <tr style=\"text-align: right;\">\n",
       "      <th></th>\n",
       "      <th>nodeId</th>\n",
       "      <th>predictedClass</th>\n",
       "      <th>predictedProbabilities</th>\n",
       "      <th>confidence</th>\n",
       "    </tr>\n",
       "  </thead>\n",
       "  <tbody>\n",
       "    <tr>\n",
       "      <th>0</th>\n",
       "      <td>0</td>\n",
       "      <td>100</td>\n",
       "      <td>[0.01361877434161338, 0.0008177054013954495, 0...</td>\n",
       "      <td>73.0</td>\n",
       "    </tr>\n",
       "    <tr>\n",
       "      <th>1</th>\n",
       "      <td>1</td>\n",
       "      <td>1</td>\n",
       "      <td>[0.31864827446240307, 0.026098761297171216, 0....</td>\n",
       "      <td>31.0</td>\n",
       "    </tr>\n",
       "    <tr>\n",
       "      <th>2</th>\n",
       "      <td>2</td>\n",
       "      <td>2</td>\n",
       "      <td>[0.007710767899246513, 0.766314905140325, 0.00...</td>\n",
       "      <td>76.0</td>\n",
       "    </tr>\n",
       "    <tr>\n",
       "      <th>3</th>\n",
       "      <td>3</td>\n",
       "      <td>2</td>\n",
       "      <td>[0.0035000391022356513, 0.9768116873834237, 0....</td>\n",
       "      <td>97.0</td>\n",
       "    </tr>\n",
       "    <tr>\n",
       "      <th>4</th>\n",
       "      <td>4</td>\n",
       "      <td>3</td>\n",
       "      <td>[0.030847881084031987, 0.0013559744680570276, ...</td>\n",
       "      <td>86.0</td>\n",
       "    </tr>\n",
       "    <tr>\n",
       "      <th>5</th>\n",
       "      <td>5</td>\n",
       "      <td>1</td>\n",
       "      <td>[0.27506093698192285, 0.2660508673427692, 0.09...</td>\n",
       "      <td>27.0</td>\n",
       "    </tr>\n",
       "    <tr>\n",
       "      <th>6</th>\n",
       "      <td>6</td>\n",
       "      <td>6</td>\n",
       "      <td>[0.017773776963205926, 0.0607078611969441, 0.0...</td>\n",
       "      <td>82.0</td>\n",
       "    </tr>\n",
       "    <tr>\n",
       "      <th>7</th>\n",
       "      <td>7</td>\n",
       "      <td>100</td>\n",
       "      <td>[0.0028360075434722665, 0.004250369599202613, ...</td>\n",
       "      <td>89.0</td>\n",
       "    </tr>\n",
       "    <tr>\n",
       "      <th>8</th>\n",
       "      <td>8</td>\n",
       "      <td>100</td>\n",
       "      <td>[0.018410346867102398, 0.026196141169875405, 0...</td>\n",
       "      <td>54.0</td>\n",
       "    </tr>\n",
       "    <tr>\n",
       "      <th>9</th>\n",
       "      <td>9</td>\n",
       "      <td>4</td>\n",
       "      <td>[0.0115155848742497, 0.3317480405930409, 0.002...</td>\n",
       "      <td>46.0</td>\n",
       "    </tr>\n",
       "  </tbody>\n",
       "</table>\n",
       "</div>"
      ],
      "text/plain": [
       "   nodeId  predictedClass                             predictedProbabilities  \\\n",
       "0       0             100  [0.01361877434161338, 0.0008177054013954495, 0...   \n",
       "1       1               1  [0.31864827446240307, 0.026098761297171216, 0....   \n",
       "2       2               2  [0.007710767899246513, 0.766314905140325, 0.00...   \n",
       "3       3               2  [0.0035000391022356513, 0.9768116873834237, 0....   \n",
       "4       4               3  [0.030847881084031987, 0.0013559744680570276, ...   \n",
       "5       5               1  [0.27506093698192285, 0.2660508673427692, 0.09...   \n",
       "6       6               6  [0.017773776963205926, 0.0607078611969441, 0.0...   \n",
       "7       7             100  [0.0028360075434722665, 0.004250369599202613, ...   \n",
       "8       8             100  [0.018410346867102398, 0.026196141169875405, 0...   \n",
       "9       9               4  [0.0115155848742497, 0.3317480405930409, 0.002...   \n",
       "\n",
       "   confidence  \n",
       "0        73.0  \n",
       "1        31.0  \n",
       "2        76.0  \n",
       "3        97.0  \n",
       "4        86.0  \n",
       "5        27.0  \n",
       "6        82.0  \n",
       "7        89.0  \n",
       "8        54.0  \n",
       "9        46.0  "
      ]
     },
     "execution_count": 30,
     "metadata": {},
     "output_type": "execute_result"
    }
   ],
   "source": [
    "pd.set_option(\"display.precision\", 6)\n",
    "\n",
    "predicted"
   ]
  },
  {
   "cell_type": "markdown",
   "metadata": {
    "id": "rL7Mi1AIc7OJ"
   },
   "source": [
    "## Adding a data preprocessing step\n",
    "\n",
    "The performance of the model can potentially be increased by adding more features or by using different features altogether. One way is to use models that create embeddings based on both node properties and graph features. One of such models is FastRP, which can be added via the `addNodeProperty` pipeline method.\n",
    "\n",
    "More embedding methods are available in GDS, as well as other pre-processing algorithms."
   ]
  },
  {
   "cell_type": "code",
   "execution_count": 31,
   "metadata": {
    "colab": {
     "background_save": true
    },
    "id": "F_z0gLG9QCAn"
   },
   "outputs": [
    {
     "data": {
      "text/plain": [
       "name                                              cora-pipeline-fastrp\n",
       "nodePropertySteps    [{'name': 'gds.fastRP.mutate', 'config': {'ran...\n",
       "featureProperties                                                   []\n",
       "splitConfig                {'testFraction': 0.3, 'validationFolds': 3}\n",
       "autoTuningConfig                                     {'maxTrials': 10}\n",
       "parameterSpace       {'MultilayerPerceptron': [], 'RandomForest': [...\n",
       "Name: 0, dtype: object"
      ]
     },
     "execution_count": 31,
     "metadata": {},
     "output_type": "execute_result"
    }
   ],
   "source": [
    "node_pipeline_fastrp, _ = gds.beta.pipeline.nodeClassification.create(\"cora-pipeline-fastrp\")\n",
    "\n",
    "# Add a step in the pipeline that mutates the graph\n",
    "node_pipeline_fastrp.addNodeProperty(\n",
    "    \"fastRP\",\n",
    "    mutateProperty=\"embedding\",\n",
    "    embeddingDimension=512,\n",
    "    propertyRatio=1.0,\n",
    "    randomSeed=42,\n",
    "    featureProperties=[\"features\"],\n",
    ")"
   ]
  },
  {
   "cell_type": "markdown",
   "metadata": {
    "id": "lM51DhPWX4e3"
   },
   "source": [
    "With the node embeddings available as features, we no longer use the original raw `features`."
   ]
  },
  {
   "cell_type": "code",
   "execution_count": 32,
   "metadata": {
    "colab": {
     "background_save": true
    },
    "id": "2uQY--MDdePK"
   },
   "outputs": [
    {
     "data": {
      "text/plain": [
       "name                                              cora-pipeline-fastrp\n",
       "nodePropertySteps    [{'name': 'gds.fastRP.mutate', 'config': {'ran...\n",
       "featureProperties                                          [embedding]\n",
       "splitConfig                {'testFraction': 0.3, 'validationFolds': 3}\n",
       "autoTuningConfig                                     {'maxTrials': 10}\n",
       "parameterSpace       {'MultilayerPerceptron': [], 'RandomForest': [...\n",
       "Name: 0, dtype: object"
      ]
     },
     "execution_count": 32,
     "metadata": {},
     "output_type": "execute_result"
    }
   ],
   "source": [
    "node_pipeline_fastrp.selectFeatures([\"embedding\"])"
   ]
  },
  {
   "cell_type": "code",
   "execution_count": 33,
   "metadata": {
    "colab": {
     "background_save": true
    },
    "id": "c0krIvXTipcD"
   },
   "outputs": [
    {
     "data": {
      "text/plain": [
       "name                                              cora-pipeline-fastrp\n",
       "nodePropertySteps    [{'name': 'gds.fastRP.mutate', 'config': {'ran...\n",
       "featureProperties                                          [embedding]\n",
       "splitConfig                {'testFraction': 0.2, 'validationFolds': 5}\n",
       "autoTuningConfig                                     {'maxTrials': 10}\n",
       "parameterSpace       {'MultilayerPerceptron': [], 'RandomForest': [...\n",
       "Name: 0, dtype: object"
      ]
     },
     "execution_count": 33,
     "metadata": {},
     "output_type": "execute_result"
    }
   ],
   "source": [
    "# Configure the pipeline as before\n",
    "node_pipeline_fastrp.configureSplit(testFraction=0.2, validationFolds=5)\n",
    "\n",
    "node_pipeline_fastrp.addLogisticRegression(maxEpochs=1000, penalty=(0.00048, 0.00050))"
   ]
  },
  {
   "cell_type": "code",
   "execution_count": 35,
   "metadata": {
    "colab": {
     "background_save": true
    },
    "id": "Kvr9iU4HdoTv"
   },
   "outputs": [
    {
     "name": "stderr",
     "output_type": "stream",
     "text": [
      "Node Classification Train Pipeline: 100%|██████████| 100.0/100 [01:33<00:00,  1.07%/s]\n"
     ]
    }
   ],
   "source": [
    "# Perform the actual training\n",
    "model_fastrp, stats_fastrp = node_pipeline_fastrp.train(\n",
    "    G,\n",
    "    targetNodeLabels=[\"Paper\"],\n",
    "    modelName=\"cora-pipeline-model-fastrp\",\n",
    "    targetProperty=\"subject\",\n",
    "    metrics=[\"F1_WEIGHTED\"],\n",
    "    randomSeed=42,\n",
    "    concurrency=4,\n",
    ")"
   ]
  },
  {
   "cell_type": "code",
   "execution_count": 36,
   "metadata": {
    "colab": {
     "background_save": true
    },
    "id": "_Q3zMmpCd2o0"
   },
   "outputs": [
    {
     "name": "stdout",
     "output_type": "stream",
     "text": [
      "0.8466258544158551\n"
     ]
    }
   ],
   "source": [
    "print(stats_fastrp[\"modelInfo\"][\"metrics\"][\"F1_WEIGHTED\"][\"test\"])"
   ]
  },
  {
   "cell_type": "markdown",
   "metadata": {
    "id": "rhaPoK0xFdK3"
   },
   "source": [
    "## Use the new model for prediction\n",
    "\n",
    "Here we are **not** using the `nodeLabels=[\"UnclassifiedPaper\"]` parameter, because FastRP depends on neighbour nodes. When using models that have `nodePropertySteps` that use relationships (such as FastRP and other models that create embeddings, but also algorithms like PageRank), the `nodeLabels` filter should not be used because it would \"cut out\" all the linked nodes that have a different label."
   ]
  },
  {
   "cell_type": "code",
   "execution_count": 37,
   "metadata": {
    "colab": {
     "background_save": true
    },
    "id": "vgfN-ppHw4Rp"
   },
   "outputs": [
    {
     "name": "stderr",
     "output_type": "stream",
     "text": [
      "Node Classification Predict Pipeline: 100%|██████████| 100.0/100 [00:00<00:00, 161.51%/s]\n"
     ]
    }
   ],
   "source": [
    "predicted_fastrp = model_fastrp.predict_stream(\n",
    "    G, modelName=\"cora-pipeline-model-fastrp\", includePredictedProbabilities=True\n",
    ")"
   ]
  },
  {
   "cell_type": "code",
   "execution_count": 43,
   "metadata": {
    "colab": {
     "background_save": true
    },
    "id": "Lp_wzQKdmTDB"
   },
   "outputs": [
    {
     "data": {
      "text/plain": [
       "nodeId                    2698\n",
       "predictedClass            2698\n",
       "predictedProbabilities    2698\n",
       "dtype: int64"
      ]
     },
     "execution_count": 43,
     "metadata": {},
     "output_type": "execute_result"
    }
   ],
   "source": [
    "predicted_fastrp.count()"
   ]
  },
  {
   "cell_type": "markdown",
   "metadata": {
    "id": "u2o_J8dzN-qQ"
   },
   "source": [
    "Since we have used no filters, the `predicted` result contains _all_ the nodes. The way to filter the nodes is via the `streamNodeProperty` method, which can be used only after the new property is written to the graph via the `mutate` mode. "
   ]
  },
  {
   "cell_type": "markdown",
   "metadata": {
    "id": "PNbRL2y84F6Q"
   },
   "source": [
    "Instead of streaming the results, the prediction can be run in `mutate` mode to be more performant. The predicted nodes can be retrieved using the `streamNodeProperty` method with the `UnclassifiedPaper` class."
   ]
  },
  {
   "cell_type": "code",
   "execution_count": 44,
   "metadata": {
    "colab": {
     "background_save": true
    },
    "id": "_HVufWHbxIoE"
   },
   "outputs": [
    {
     "ename": "ClientError",
     "evalue": "Failed to invoke procedure `gds.beta.pipeline.nodeClassification.predict.mutate`: Caused by: java.lang.IllegalArgumentException: Multiple errors in configuration arguments:\n\t\t\t\tNode property `predictedProbabilities` already exists in the in-memory graph.\n\t\t\t\tNode property `predictedClass` already exists in the in-memory graph.",
     "output_type": "error",
     "traceback": [
      "\u001b[0;31m---------------------------------------------------------------------------\u001b[0m",
      "\u001b[0;31mClientError\u001b[0m                               Traceback (most recent call last)",
      "\u001b[1;32m/Users/nvitucci/github/graph-data-science-client_nvitucci/examples/ml-pipelines-node-classification.ipynb Cell 55\u001b[0m in \u001b[0;36m<cell line: 1>\u001b[0;34m()\u001b[0m\n\u001b[0;32m----> <a href='vscode-notebook-cell:/Users/nvitucci/github/graph-data-science-client_nvitucci/examples/ml-pipelines-node-classification.ipynb#Y105sZmlsZQ%3D%3D?line=0'>1</a>\u001b[0m model_fastrp\u001b[39m.\u001b[39;49mpredict_mutate(\n\u001b[1;32m      <a href='vscode-notebook-cell:/Users/nvitucci/github/graph-data-science-client_nvitucci/examples/ml-pipelines-node-classification.ipynb#Y105sZmlsZQ%3D%3D?line=1'>2</a>\u001b[0m     G,\n\u001b[1;32m      <a href='vscode-notebook-cell:/Users/nvitucci/github/graph-data-science-client_nvitucci/examples/ml-pipelines-node-classification.ipynb#Y105sZmlsZQ%3D%3D?line=2'>3</a>\u001b[0m     mutateProperty\u001b[39m=\u001b[39;49m\u001b[39m\"\u001b[39;49m\u001b[39mpredictedClass\u001b[39;49m\u001b[39m\"\u001b[39;49m,\n\u001b[1;32m      <a href='vscode-notebook-cell:/Users/nvitucci/github/graph-data-science-client_nvitucci/examples/ml-pipelines-node-classification.ipynb#Y105sZmlsZQ%3D%3D?line=3'>4</a>\u001b[0m     modelName\u001b[39m=\u001b[39;49m\u001b[39m\"\u001b[39;49m\u001b[39mcora-pipeline-model-fastrp\u001b[39;49m\u001b[39m\"\u001b[39;49m,\n\u001b[1;32m      <a href='vscode-notebook-cell:/Users/nvitucci/github/graph-data-science-client_nvitucci/examples/ml-pipelines-node-classification.ipynb#Y105sZmlsZQ%3D%3D?line=4'>5</a>\u001b[0m     predictedProbabilityProperty\u001b[39m=\u001b[39;49m\u001b[39m\"\u001b[39;49m\u001b[39mpredictedProbabilities\u001b[39;49m\u001b[39m\"\u001b[39;49m,\n\u001b[1;32m      <a href='vscode-notebook-cell:/Users/nvitucci/github/graph-data-science-client_nvitucci/examples/ml-pipelines-node-classification.ipynb#Y105sZmlsZQ%3D%3D?line=5'>6</a>\u001b[0m )\n",
      "File \u001b[0;32m~/github/graph-data-science-client_nvitucci/venv/lib/python3.10/site-packages/graphdatascience/model/model.py:96\u001b[0m, in \u001b[0;36mModel.predict_mutate\u001b[0;34m(self, G, **config)\u001b[0m\n\u001b[1;32m     93\u001b[0m config[\u001b[39m\"\u001b[39m\u001b[39mmodelName\u001b[39m\u001b[39m\"\u001b[39m] \u001b[39m=\u001b[39m \u001b[39mself\u001b[39m\u001b[39m.\u001b[39mname()\n\u001b[1;32m     94\u001b[0m params \u001b[39m=\u001b[39m {\u001b[39m\"\u001b[39m\u001b[39mgraph_name\u001b[39m\u001b[39m\"\u001b[39m: G\u001b[39m.\u001b[39mname(), \u001b[39m\"\u001b[39m\u001b[39mconfig\u001b[39m\u001b[39m\"\u001b[39m: config}\n\u001b[0;32m---> 96\u001b[0m \u001b[39mreturn\u001b[39;00m \u001b[39mself\u001b[39;49m\u001b[39m.\u001b[39;49m_query_runner\u001b[39m.\u001b[39;49mrun_query_with_logging(query, params)\u001b[39m.\u001b[39msqueeze()\n",
      "File \u001b[0;32m~/github/graph-data-science-client_nvitucci/venv/lib/python3.10/site-packages/graphdatascience/query_runner/neo4j_query_runner.py:63\u001b[0m, in \u001b[0;36mNeo4jQueryRunner.run_query_with_logging\u001b[0;34m(self, query, params)\u001b[0m\n\u001b[1;32m     60\u001b[0m \u001b[39mself\u001b[39m\u001b[39m.\u001b[39m_log(job_id, future)\n\u001b[1;32m     62\u001b[0m \u001b[39mif\u001b[39;00m future\u001b[39m.\u001b[39mexception():\n\u001b[0;32m---> 63\u001b[0m     \u001b[39mraise\u001b[39;00m future\u001b[39m.\u001b[39mexception()  \u001b[39m# type: ignore\u001b[39;00m\n\u001b[1;32m     64\u001b[0m \u001b[39melse\u001b[39;00m:\n\u001b[1;32m     65\u001b[0m     \u001b[39mreturn\u001b[39;00m future\u001b[39m.\u001b[39mresult()\n",
      "File \u001b[0;32m/opt/homebrew/Cellar/python@3.10/3.10.8/Frameworks/Python.framework/Versions/3.10/lib/python3.10/concurrent/futures/thread.py:58\u001b[0m, in \u001b[0;36m_WorkItem.run\u001b[0;34m(self)\u001b[0m\n\u001b[1;32m     55\u001b[0m     \u001b[39mreturn\u001b[39;00m\n\u001b[1;32m     57\u001b[0m \u001b[39mtry\u001b[39;00m:\n\u001b[0;32m---> 58\u001b[0m     result \u001b[39m=\u001b[39m \u001b[39mself\u001b[39;49m\u001b[39m.\u001b[39;49mfn(\u001b[39m*\u001b[39;49m\u001b[39mself\u001b[39;49m\u001b[39m.\u001b[39;49margs, \u001b[39m*\u001b[39;49m\u001b[39m*\u001b[39;49m\u001b[39mself\u001b[39;49m\u001b[39m.\u001b[39;49mkwargs)\n\u001b[1;32m     59\u001b[0m \u001b[39mexcept\u001b[39;00m \u001b[39mBaseException\u001b[39;00m \u001b[39mas\u001b[39;00m exc:\n\u001b[1;32m     60\u001b[0m     \u001b[39mself\u001b[39m\u001b[39m.\u001b[39mfuture\u001b[39m.\u001b[39mset_exception(exc)\n",
      "File \u001b[0;32m~/github/graph-data-science-client_nvitucci/venv/lib/python3.10/site-packages/graphdatascience/query_runner/neo4j_query_runner.py:38\u001b[0m, in \u001b[0;36mNeo4jQueryRunner.run_query\u001b[0;34m(self, query, params)\u001b[0m\n\u001b[1;32m     31\u001b[0m \u001b[39m# Though pandas support may be experimental in the `neo4j` package, it should always\u001b[39;00m\n\u001b[1;32m     32\u001b[0m \u001b[39m# be supported in the `graphdatascience` package.\u001b[39;00m\n\u001b[1;32m     33\u001b[0m warnings\u001b[39m.\u001b[39mfilterwarnings(\n\u001b[1;32m     34\u001b[0m     \u001b[39m\"\u001b[39m\u001b[39mignore\u001b[39m\u001b[39m\"\u001b[39m,\n\u001b[1;32m     35\u001b[0m     message\u001b[39m=\u001b[39m\u001b[39mr\u001b[39m\u001b[39m\"\u001b[39m\u001b[39m^pandas support is experimental and might be changed or removed in future versions$\u001b[39m\u001b[39m\"\u001b[39m,\n\u001b[1;32m     36\u001b[0m )\n\u001b[0;32m---> 38\u001b[0m \u001b[39mreturn\u001b[39;00m result\u001b[39m.\u001b[39;49mto_df()\n",
      "File \u001b[0;32m~/github/graph-data-science-client_nvitucci/venv/lib/python3.10/site-packages/neo4j/meta.py:85\u001b[0m, in \u001b[0;36mexperimental.<locals>.f__.<locals>.f_\u001b[0;34m(*args, **kwargs)\u001b[0m\n\u001b[1;32m     83\u001b[0m \u001b[39mfrom\u001b[39;00m \u001b[39mwarnings\u001b[39;00m \u001b[39mimport\u001b[39;00m warn\n\u001b[1;32m     84\u001b[0m warn(message, category\u001b[39m=\u001b[39mExperimentalWarning, stacklevel\u001b[39m=\u001b[39m\u001b[39m2\u001b[39m)\n\u001b[0;32m---> 85\u001b[0m \u001b[39mreturn\u001b[39;00m f(\u001b[39m*\u001b[39;49margs, \u001b[39m*\u001b[39;49m\u001b[39m*\u001b[39;49mkwargs)\n",
      "File \u001b[0;32m~/github/graph-data-science-client_nvitucci/venv/lib/python3.10/site-packages/neo4j/work/result.py:404\u001b[0m, in \u001b[0;36mResult.to_df\u001b[0;34m(self)\u001b[0m\n\u001b[1;32m    384\u001b[0m \u001b[39m\"\"\"Convert (the rest of) the result to a pandas DataFrame.\u001b[39;00m\n\u001b[1;32m    385\u001b[0m \n\u001b[1;32m    386\u001b[0m \u001b[39mThis method is only available if the `pandas` library is installed.\u001b[39;00m\n\u001b[0;32m   (...)\u001b[0m\n\u001b[1;32m    400\u001b[0m \u001b[39mwithout warning. (See :ref:`filter-warnings-ref`)\u001b[39;00m\n\u001b[1;32m    401\u001b[0m \u001b[39m\"\"\"\u001b[39;00m\n\u001b[1;32m    402\u001b[0m \u001b[39mimport\u001b[39;00m \u001b[39mpandas\u001b[39;00m \u001b[39mas\u001b[39;00m \u001b[39mpd\u001b[39;00m\n\u001b[0;32m--> 404\u001b[0m \u001b[39mreturn\u001b[39;00m pd\u001b[39m.\u001b[39mDataFrame(\u001b[39mself\u001b[39;49m\u001b[39m.\u001b[39;49mvalues(), columns\u001b[39m=\u001b[39m\u001b[39mself\u001b[39m\u001b[39m.\u001b[39m_keys)\n",
      "File \u001b[0;32m~/github/graph-data-science-client_nvitucci/venv/lib/python3.10/site-packages/neo4j/work/result.py:368\u001b[0m, in \u001b[0;36mResult.values\u001b[0;34m(self, *keys)\u001b[0m\n\u001b[1;32m    359\u001b[0m \u001b[39mdef\u001b[39;00m \u001b[39mvalues\u001b[39m(\u001b[39mself\u001b[39m, \u001b[39m*\u001b[39mkeys):\n\u001b[1;32m    360\u001b[0m     \u001b[39m\"\"\"Helper function that return the remainder of the result as a list of values lists.\u001b[39;00m\n\u001b[1;32m    361\u001b[0m \n\u001b[1;32m    362\u001b[0m \u001b[39m    See :class:`neo4j.Record.values`\u001b[39;00m\n\u001b[0;32m   (...)\u001b[0m\n\u001b[1;32m    366\u001b[0m \u001b[39m    :rtype: list\u001b[39;00m\n\u001b[1;32m    367\u001b[0m \u001b[39m    \"\"\"\u001b[39;00m\n\u001b[0;32m--> 368\u001b[0m     \u001b[39mreturn\u001b[39;00m [record\u001b[39m.\u001b[39mvalues(\u001b[39m*\u001b[39mkeys) \u001b[39mfor\u001b[39;00m record \u001b[39min\u001b[39;00m \u001b[39mself\u001b[39m]\n",
      "File \u001b[0;32m~/github/graph-data-science-client_nvitucci/venv/lib/python3.10/site-packages/neo4j/work/result.py:368\u001b[0m, in \u001b[0;36m<listcomp>\u001b[0;34m(.0)\u001b[0m\n\u001b[1;32m    359\u001b[0m \u001b[39mdef\u001b[39;00m \u001b[39mvalues\u001b[39m(\u001b[39mself\u001b[39m, \u001b[39m*\u001b[39mkeys):\n\u001b[1;32m    360\u001b[0m     \u001b[39m\"\"\"Helper function that return the remainder of the result as a list of values lists.\u001b[39;00m\n\u001b[1;32m    361\u001b[0m \n\u001b[1;32m    362\u001b[0m \u001b[39m    See :class:`neo4j.Record.values`\u001b[39;00m\n\u001b[0;32m   (...)\u001b[0m\n\u001b[1;32m    366\u001b[0m \u001b[39m    :rtype: list\u001b[39;00m\n\u001b[1;32m    367\u001b[0m \u001b[39m    \"\"\"\u001b[39;00m\n\u001b[0;32m--> 368\u001b[0m     \u001b[39mreturn\u001b[39;00m [record\u001b[39m.\u001b[39mvalues(\u001b[39m*\u001b[39mkeys) \u001b[39mfor\u001b[39;00m record \u001b[39min\u001b[39;00m \u001b[39mself\u001b[39m]\n",
      "File \u001b[0;32m~/github/graph-data-science-client_nvitucci/venv/lib/python3.10/site-packages/neo4j/work/result.py:190\u001b[0m, in \u001b[0;36mResult.__iter__\u001b[0;34m(self)\u001b[0m\n\u001b[1;32m    188\u001b[0m     \u001b[39myield\u001b[39;00m \u001b[39mself\u001b[39m\u001b[39m.\u001b[39m_record_buffer\u001b[39m.\u001b[39mpopleft()\n\u001b[1;32m    189\u001b[0m \u001b[39melif\u001b[39;00m \u001b[39mself\u001b[39m\u001b[39m.\u001b[39m_streaming:\n\u001b[0;32m--> 190\u001b[0m     \u001b[39mself\u001b[39;49m\u001b[39m.\u001b[39;49m_connection\u001b[39m.\u001b[39;49mfetch_message()\n\u001b[1;32m    191\u001b[0m \u001b[39melif\u001b[39;00m \u001b[39mself\u001b[39m\u001b[39m.\u001b[39m_discarding:\n\u001b[1;32m    192\u001b[0m     \u001b[39mself\u001b[39m\u001b[39m.\u001b[39m_discard()\n",
      "File \u001b[0;32m~/github/graph-data-science-client_nvitucci/venv/lib/python3.10/site-packages/neo4j/io/_common.py:188\u001b[0m, in \u001b[0;36mConnectionErrorHandler.__getattr__.<locals>.outer.<locals>.inner\u001b[0;34m(*args, **kwargs)\u001b[0m\n\u001b[1;32m    186\u001b[0m \u001b[39mdef\u001b[39;00m \u001b[39minner\u001b[39m(\u001b[39m*\u001b[39margs, \u001b[39m*\u001b[39m\u001b[39m*\u001b[39mkwargs):\n\u001b[1;32m    187\u001b[0m     \u001b[39mtry\u001b[39;00m:\n\u001b[0;32m--> 188\u001b[0m         func(\u001b[39m*\u001b[39;49margs, \u001b[39m*\u001b[39;49m\u001b[39m*\u001b[39;49mkwargs)\n\u001b[1;32m    189\u001b[0m     \u001b[39mexcept\u001b[39;00m (Neo4jError, ServiceUnavailable, SessionExpired) \u001b[39mas\u001b[39;00m exc:\n\u001b[1;32m    190\u001b[0m         \u001b[39mself\u001b[39m\u001b[39m.\u001b[39m__on_error(exc)\n",
      "File \u001b[0;32m~/github/graph-data-science-client_nvitucci/venv/lib/python3.10/site-packages/neo4j/io/_bolt4.py:306\u001b[0m, in \u001b[0;36mBolt4x0.fetch_message\u001b[0;34m(self)\u001b[0m\n\u001b[1;32m    304\u001b[0m \u001b[39mself\u001b[39m\u001b[39m.\u001b[39m_server_state_manager\u001b[39m.\u001b[39mstate \u001b[39m=\u001b[39m ServerStates\u001b[39m.\u001b[39mFAILED\n\u001b[1;32m    305\u001b[0m \u001b[39mtry\u001b[39;00m:\n\u001b[0;32m--> 306\u001b[0m     response\u001b[39m.\u001b[39;49mon_failure(summary_metadata \u001b[39mor\u001b[39;49;00m {})\n\u001b[1;32m    307\u001b[0m \u001b[39mexcept\u001b[39;00m (ServiceUnavailable, DatabaseUnavailable):\n\u001b[1;32m    308\u001b[0m     \u001b[39mif\u001b[39;00m \u001b[39mself\u001b[39m\u001b[39m.\u001b[39mpool:\n",
      "File \u001b[0;32m~/github/graph-data-science-client_nvitucci/venv/lib/python3.10/site-packages/neo4j/io/_common.py:246\u001b[0m, in \u001b[0;36mResponse.on_failure\u001b[0;34m(self, metadata)\u001b[0m\n\u001b[1;32m    244\u001b[0m \u001b[39mif\u001b[39;00m callable(handler):\n\u001b[1;32m    245\u001b[0m     handler()\n\u001b[0;32m--> 246\u001b[0m \u001b[39mraise\u001b[39;00m Neo4jError\u001b[39m.\u001b[39mhydrate(\u001b[39m*\u001b[39m\u001b[39m*\u001b[39mmetadata)\n",
      "\u001b[0;31mClientError\u001b[0m: Failed to invoke procedure `gds.beta.pipeline.nodeClassification.predict.mutate`: Caused by: java.lang.IllegalArgumentException: Multiple errors in configuration arguments:\n\t\t\t\tNode property `predictedProbabilities` already exists in the in-memory graph.\n\t\t\t\tNode property `predictedClass` already exists in the in-memory graph."
     ]
    }
   ],
   "source": [
    "model_fastrp.predict_mutate(\n",
    "    G,\n",
    "    mutateProperty=\"predictedClass\",\n",
    "    modelName=\"cora-pipeline-model-fastrp\",\n",
    "    predictedProbabilityProperty=\"predictedProbabilities\",\n",
    ")"
   ]
  },
  {
   "cell_type": "code",
   "execution_count": 45,
   "metadata": {
    "colab": {
     "background_save": true
    },
    "id": "dSoNCQGjGLKt"
   },
   "outputs": [
    {
     "ename": "ClientError",
     "evalue": "Failed to invoke procedure `gds.graph.streamNodeProperty`: Caused by: java.lang.IllegalArgumentException: Expecting all specified node projections to have all given properties defined. Could not find property key(s) ['predictedClass'] for label UnclassifiedPaper. Defined keys: ['features'].",
     "output_type": "error",
     "traceback": [
      "\u001b[0;31m---------------------------------------------------------------------------\u001b[0m",
      "\u001b[0;31mClientError\u001b[0m                               Traceback (most recent call last)",
      "\u001b[1;32m/Users/nvitucci/github/graph-data-science-client_nvitucci/examples/ml-pipelines-node-classification.ipynb Cell 56\u001b[0m in \u001b[0;36m<cell line: 1>\u001b[0;34m()\u001b[0m\n\u001b[0;32m----> <a href='vscode-notebook-cell:/Users/nvitucci/github/graph-data-science-client_nvitucci/examples/ml-pipelines-node-classification.ipynb#Y106sZmlsZQ%3D%3D?line=0'>1</a>\u001b[0m predicted_fastrp \u001b[39m=\u001b[39m gds\u001b[39m.\u001b[39;49mgraph\u001b[39m.\u001b[39;49mstreamNodeProperty(G, \u001b[39m\"\u001b[39;49m\u001b[39mpredictedClass\u001b[39;49m\u001b[39m\"\u001b[39;49m, [\u001b[39m\"\u001b[39;49m\u001b[39mUnclassifiedPaper\u001b[39;49m\u001b[39m\"\u001b[39;49m])\n\u001b[1;32m      <a href='vscode-notebook-cell:/Users/nvitucci/github/graph-data-science-client_nvitucci/examples/ml-pipelines-node-classification.ipynb#Y106sZmlsZQ%3D%3D?line=2'>3</a>\u001b[0m predicted_fastrp\n",
      "File \u001b[0;32m~/github/graph-data-science-client_nvitucci/venv/lib/python3.10/site-packages/graphdatascience/graph/graph_proc_runner.py:185\u001b[0m, in \u001b[0;36mGraphProcRunner.streamNodeProperty\u001b[0;34m(self, G, node_properties, node_labels, **config)\u001b[0m\n\u001b[1;32m    176\u001b[0m \u001b[39mdef\u001b[39;00m \u001b[39mstreamNodeProperty\u001b[39m(\n\u001b[1;32m    177\u001b[0m     \u001b[39mself\u001b[39m,\n\u001b[1;32m    178\u001b[0m     G: Graph,\n\u001b[0;32m   (...)\u001b[0m\n\u001b[1;32m    181\u001b[0m     \u001b[39m*\u001b[39m\u001b[39m*\u001b[39mconfig: Any,\n\u001b[1;32m    182\u001b[0m ) \u001b[39m-\u001b[39m\u001b[39m>\u001b[39m DataFrame:\n\u001b[1;32m    183\u001b[0m     \u001b[39mself\u001b[39m\u001b[39m.\u001b[39m_namespace \u001b[39m+\u001b[39m\u001b[39m=\u001b[39m \u001b[39m\"\u001b[39m\u001b[39m.streamNodeProperty\u001b[39m\u001b[39m\"\u001b[39m\n\u001b[0;32m--> 185\u001b[0m     \u001b[39mreturn\u001b[39;00m \u001b[39mself\u001b[39;49m\u001b[39m.\u001b[39;49m_handle_properties(G, node_properties, node_labels, config)\n",
      "File \u001b[0;32m~/github/graph-data-science-client_nvitucci/venv/lib/python3.10/site-packages/graphdatascience/graph/graph_proc_runner.py:114\u001b[0m, in \u001b[0;36mGraphProcRunner._handle_properties\u001b[0;34m(self, G, properties, entities, config)\u001b[0m\n\u001b[1;32m    106\u001b[0m query \u001b[39m=\u001b[39m \u001b[39mf\u001b[39m\u001b[39m\"\u001b[39m\u001b[39mCALL \u001b[39m\u001b[39m{\u001b[39;00m\u001b[39mself\u001b[39m\u001b[39m.\u001b[39m_namespace\u001b[39m}\u001b[39;00m\u001b[39m($graph_name, $properties, $entities, $config)\u001b[39m\u001b[39m\"\u001b[39m\n\u001b[1;32m    107\u001b[0m params \u001b[39m=\u001b[39m {\n\u001b[1;32m    108\u001b[0m     \u001b[39m\"\u001b[39m\u001b[39mgraph_name\u001b[39m\u001b[39m\"\u001b[39m: G\u001b[39m.\u001b[39mname(),\n\u001b[1;32m    109\u001b[0m     \u001b[39m\"\u001b[39m\u001b[39mproperties\u001b[39m\u001b[39m\"\u001b[39m: properties,\n\u001b[1;32m    110\u001b[0m     \u001b[39m\"\u001b[39m\u001b[39mentities\u001b[39m\u001b[39m\"\u001b[39m: entities,\n\u001b[1;32m    111\u001b[0m     \u001b[39m\"\u001b[39m\u001b[39mconfig\u001b[39m\u001b[39m\"\u001b[39m: config,\n\u001b[1;32m    112\u001b[0m }\n\u001b[0;32m--> 114\u001b[0m \u001b[39mreturn\u001b[39;00m \u001b[39mself\u001b[39;49m\u001b[39m.\u001b[39;49m_query_runner\u001b[39m.\u001b[39;49mrun_query(query, params)\n",
      "File \u001b[0;32m~/github/graph-data-science-client_nvitucci/venv/lib/python3.10/site-packages/graphdatascience/query_runner/neo4j_query_runner.py:38\u001b[0m, in \u001b[0;36mNeo4jQueryRunner.run_query\u001b[0;34m(self, query, params)\u001b[0m\n\u001b[1;32m     31\u001b[0m \u001b[39m# Though pandas support may be experimental in the `neo4j` package, it should always\u001b[39;00m\n\u001b[1;32m     32\u001b[0m \u001b[39m# be supported in the `graphdatascience` package.\u001b[39;00m\n\u001b[1;32m     33\u001b[0m warnings\u001b[39m.\u001b[39mfilterwarnings(\n\u001b[1;32m     34\u001b[0m     \u001b[39m\"\u001b[39m\u001b[39mignore\u001b[39m\u001b[39m\"\u001b[39m,\n\u001b[1;32m     35\u001b[0m     message\u001b[39m=\u001b[39m\u001b[39mr\u001b[39m\u001b[39m\"\u001b[39m\u001b[39m^pandas support is experimental and might be changed or removed in future versions$\u001b[39m\u001b[39m\"\u001b[39m,\n\u001b[1;32m     36\u001b[0m )\n\u001b[0;32m---> 38\u001b[0m \u001b[39mreturn\u001b[39;00m result\u001b[39m.\u001b[39;49mto_df()\n",
      "File \u001b[0;32m~/github/graph-data-science-client_nvitucci/venv/lib/python3.10/site-packages/neo4j/meta.py:85\u001b[0m, in \u001b[0;36mexperimental.<locals>.f__.<locals>.f_\u001b[0;34m(*args, **kwargs)\u001b[0m\n\u001b[1;32m     83\u001b[0m \u001b[39mfrom\u001b[39;00m \u001b[39mwarnings\u001b[39;00m \u001b[39mimport\u001b[39;00m warn\n\u001b[1;32m     84\u001b[0m warn(message, category\u001b[39m=\u001b[39mExperimentalWarning, stacklevel\u001b[39m=\u001b[39m\u001b[39m2\u001b[39m)\n\u001b[0;32m---> 85\u001b[0m \u001b[39mreturn\u001b[39;00m f(\u001b[39m*\u001b[39;49margs, \u001b[39m*\u001b[39;49m\u001b[39m*\u001b[39;49mkwargs)\n",
      "File \u001b[0;32m~/github/graph-data-science-client_nvitucci/venv/lib/python3.10/site-packages/neo4j/work/result.py:404\u001b[0m, in \u001b[0;36mResult.to_df\u001b[0;34m(self)\u001b[0m\n\u001b[1;32m    384\u001b[0m \u001b[39m\"\"\"Convert (the rest of) the result to a pandas DataFrame.\u001b[39;00m\n\u001b[1;32m    385\u001b[0m \n\u001b[1;32m    386\u001b[0m \u001b[39mThis method is only available if the `pandas` library is installed.\u001b[39;00m\n\u001b[0;32m   (...)\u001b[0m\n\u001b[1;32m    400\u001b[0m \u001b[39mwithout warning. (See :ref:`filter-warnings-ref`)\u001b[39;00m\n\u001b[1;32m    401\u001b[0m \u001b[39m\"\"\"\u001b[39;00m\n\u001b[1;32m    402\u001b[0m \u001b[39mimport\u001b[39;00m \u001b[39mpandas\u001b[39;00m \u001b[39mas\u001b[39;00m \u001b[39mpd\u001b[39;00m\n\u001b[0;32m--> 404\u001b[0m \u001b[39mreturn\u001b[39;00m pd\u001b[39m.\u001b[39mDataFrame(\u001b[39mself\u001b[39;49m\u001b[39m.\u001b[39;49mvalues(), columns\u001b[39m=\u001b[39m\u001b[39mself\u001b[39m\u001b[39m.\u001b[39m_keys)\n",
      "File \u001b[0;32m~/github/graph-data-science-client_nvitucci/venv/lib/python3.10/site-packages/neo4j/work/result.py:368\u001b[0m, in \u001b[0;36mResult.values\u001b[0;34m(self, *keys)\u001b[0m\n\u001b[1;32m    359\u001b[0m \u001b[39mdef\u001b[39;00m \u001b[39mvalues\u001b[39m(\u001b[39mself\u001b[39m, \u001b[39m*\u001b[39mkeys):\n\u001b[1;32m    360\u001b[0m     \u001b[39m\"\"\"Helper function that return the remainder of the result as a list of values lists.\u001b[39;00m\n\u001b[1;32m    361\u001b[0m \n\u001b[1;32m    362\u001b[0m \u001b[39m    See :class:`neo4j.Record.values`\u001b[39;00m\n\u001b[0;32m   (...)\u001b[0m\n\u001b[1;32m    366\u001b[0m \u001b[39m    :rtype: list\u001b[39;00m\n\u001b[1;32m    367\u001b[0m \u001b[39m    \"\"\"\u001b[39;00m\n\u001b[0;32m--> 368\u001b[0m     \u001b[39mreturn\u001b[39;00m [record\u001b[39m.\u001b[39mvalues(\u001b[39m*\u001b[39mkeys) \u001b[39mfor\u001b[39;00m record \u001b[39min\u001b[39;00m \u001b[39mself\u001b[39m]\n",
      "File \u001b[0;32m~/github/graph-data-science-client_nvitucci/venv/lib/python3.10/site-packages/neo4j/work/result.py:368\u001b[0m, in \u001b[0;36m<listcomp>\u001b[0;34m(.0)\u001b[0m\n\u001b[1;32m    359\u001b[0m \u001b[39mdef\u001b[39;00m \u001b[39mvalues\u001b[39m(\u001b[39mself\u001b[39m, \u001b[39m*\u001b[39mkeys):\n\u001b[1;32m    360\u001b[0m     \u001b[39m\"\"\"Helper function that return the remainder of the result as a list of values lists.\u001b[39;00m\n\u001b[1;32m    361\u001b[0m \n\u001b[1;32m    362\u001b[0m \u001b[39m    See :class:`neo4j.Record.values`\u001b[39;00m\n\u001b[0;32m   (...)\u001b[0m\n\u001b[1;32m    366\u001b[0m \u001b[39m    :rtype: list\u001b[39;00m\n\u001b[1;32m    367\u001b[0m \u001b[39m    \"\"\"\u001b[39;00m\n\u001b[0;32m--> 368\u001b[0m     \u001b[39mreturn\u001b[39;00m [record\u001b[39m.\u001b[39mvalues(\u001b[39m*\u001b[39mkeys) \u001b[39mfor\u001b[39;00m record \u001b[39min\u001b[39;00m \u001b[39mself\u001b[39m]\n",
      "File \u001b[0;32m~/github/graph-data-science-client_nvitucci/venv/lib/python3.10/site-packages/neo4j/work/result.py:190\u001b[0m, in \u001b[0;36mResult.__iter__\u001b[0;34m(self)\u001b[0m\n\u001b[1;32m    188\u001b[0m     \u001b[39myield\u001b[39;00m \u001b[39mself\u001b[39m\u001b[39m.\u001b[39m_record_buffer\u001b[39m.\u001b[39mpopleft()\n\u001b[1;32m    189\u001b[0m \u001b[39melif\u001b[39;00m \u001b[39mself\u001b[39m\u001b[39m.\u001b[39m_streaming:\n\u001b[0;32m--> 190\u001b[0m     \u001b[39mself\u001b[39;49m\u001b[39m.\u001b[39;49m_connection\u001b[39m.\u001b[39;49mfetch_message()\n\u001b[1;32m    191\u001b[0m \u001b[39melif\u001b[39;00m \u001b[39mself\u001b[39m\u001b[39m.\u001b[39m_discarding:\n\u001b[1;32m    192\u001b[0m     \u001b[39mself\u001b[39m\u001b[39m.\u001b[39m_discard()\n",
      "File \u001b[0;32m~/github/graph-data-science-client_nvitucci/venv/lib/python3.10/site-packages/neo4j/io/_common.py:188\u001b[0m, in \u001b[0;36mConnectionErrorHandler.__getattr__.<locals>.outer.<locals>.inner\u001b[0;34m(*args, **kwargs)\u001b[0m\n\u001b[1;32m    186\u001b[0m \u001b[39mdef\u001b[39;00m \u001b[39minner\u001b[39m(\u001b[39m*\u001b[39margs, \u001b[39m*\u001b[39m\u001b[39m*\u001b[39mkwargs):\n\u001b[1;32m    187\u001b[0m     \u001b[39mtry\u001b[39;00m:\n\u001b[0;32m--> 188\u001b[0m         func(\u001b[39m*\u001b[39;49margs, \u001b[39m*\u001b[39;49m\u001b[39m*\u001b[39;49mkwargs)\n\u001b[1;32m    189\u001b[0m     \u001b[39mexcept\u001b[39;00m (Neo4jError, ServiceUnavailable, SessionExpired) \u001b[39mas\u001b[39;00m exc:\n\u001b[1;32m    190\u001b[0m         \u001b[39mself\u001b[39m\u001b[39m.\u001b[39m__on_error(exc)\n",
      "File \u001b[0;32m~/github/graph-data-science-client_nvitucci/venv/lib/python3.10/site-packages/neo4j/io/_bolt4.py:306\u001b[0m, in \u001b[0;36mBolt4x0.fetch_message\u001b[0;34m(self)\u001b[0m\n\u001b[1;32m    304\u001b[0m \u001b[39mself\u001b[39m\u001b[39m.\u001b[39m_server_state_manager\u001b[39m.\u001b[39mstate \u001b[39m=\u001b[39m ServerStates\u001b[39m.\u001b[39mFAILED\n\u001b[1;32m    305\u001b[0m \u001b[39mtry\u001b[39;00m:\n\u001b[0;32m--> 306\u001b[0m     response\u001b[39m.\u001b[39;49mon_failure(summary_metadata \u001b[39mor\u001b[39;49;00m {})\n\u001b[1;32m    307\u001b[0m \u001b[39mexcept\u001b[39;00m (ServiceUnavailable, DatabaseUnavailable):\n\u001b[1;32m    308\u001b[0m     \u001b[39mif\u001b[39;00m \u001b[39mself\u001b[39m\u001b[39m.\u001b[39mpool:\n",
      "File \u001b[0;32m~/github/graph-data-science-client_nvitucci/venv/lib/python3.10/site-packages/neo4j/io/_common.py:246\u001b[0m, in \u001b[0;36mResponse.on_failure\u001b[0;34m(self, metadata)\u001b[0m\n\u001b[1;32m    244\u001b[0m \u001b[39mif\u001b[39;00m callable(handler):\n\u001b[1;32m    245\u001b[0m     handler()\n\u001b[0;32m--> 246\u001b[0m \u001b[39mraise\u001b[39;00m Neo4jError\u001b[39m.\u001b[39mhydrate(\u001b[39m*\u001b[39m\u001b[39m*\u001b[39mmetadata)\n",
      "\u001b[0;31mClientError\u001b[0m: Failed to invoke procedure `gds.graph.streamNodeProperty`: Caused by: java.lang.IllegalArgumentException: Expecting all specified node projections to have all given properties defined. Could not find property key(s) ['predictedClass'] for label UnclassifiedPaper. Defined keys: ['features']."
     ]
    }
   ],
   "source": [
    "predicted_fastrp = gds.graph.streamNodeProperty(G, \"predictedClass\", [\"UnclassifiedPaper\"])\n",
    "\n",
    "predicted_fastrp"
   ]
  },
  {
   "cell_type": "code",
   "execution_count": 33,
   "metadata": {
    "colab": {
     "background_save": true
    },
    "id": "thVR-anwmmzo"
   },
   "outputs": [
    {
     "data": {
      "text/html": [
       "<div>\n",
       "<style scoped>\n",
       "    .dataframe tbody tr th:only-of-type {\n",
       "        vertical-align: middle;\n",
       "    }\n",
       "\n",
       "    .dataframe tbody tr th {\n",
       "        vertical-align: top;\n",
       "    }\n",
       "\n",
       "    .dataframe thead th {\n",
       "        text-align: right;\n",
       "    }\n",
       "</style>\n",
       "<table border=\"1\" class=\"dataframe\">\n",
       "  <thead>\n",
       "    <tr style=\"text-align: right;\">\n",
       "      <th></th>\n",
       "      <th>nodeId</th>\n",
       "      <th>propertyValue</th>\n",
       "      <th>subject</th>\n",
       "    </tr>\n",
       "  </thead>\n",
       "  <tbody>\n",
       "    <tr>\n",
       "      <th>0</th>\n",
       "      <td>0</td>\n",
       "      <td>100</td>\n",
       "      <td>100</td>\n",
       "    </tr>\n",
       "    <tr>\n",
       "      <th>1</th>\n",
       "      <td>1</td>\n",
       "      <td>1</td>\n",
       "      <td>1</td>\n",
       "    </tr>\n",
       "    <tr>\n",
       "      <th>2</th>\n",
       "      <td>2</td>\n",
       "      <td>2</td>\n",
       "      <td>2</td>\n",
       "    </tr>\n",
       "    <tr>\n",
       "      <th>3</th>\n",
       "      <td>3</td>\n",
       "      <td>2</td>\n",
       "      <td>2</td>\n",
       "    </tr>\n",
       "    <tr>\n",
       "      <th>4</th>\n",
       "      <td>4</td>\n",
       "      <td>3</td>\n",
       "      <td>3</td>\n",
       "    </tr>\n",
       "    <tr>\n",
       "      <th>5</th>\n",
       "      <td>5</td>\n",
       "      <td>3</td>\n",
       "      <td>3</td>\n",
       "    </tr>\n",
       "    <tr>\n",
       "      <th>6</th>\n",
       "      <td>6</td>\n",
       "      <td>4</td>\n",
       "      <td>4</td>\n",
       "    </tr>\n",
       "    <tr>\n",
       "      <th>7</th>\n",
       "      <td>7</td>\n",
       "      <td>100</td>\n",
       "      <td>100</td>\n",
       "    </tr>\n",
       "    <tr>\n",
       "      <th>8</th>\n",
       "      <td>8</td>\n",
       "      <td>100</td>\n",
       "      <td>100</td>\n",
       "    </tr>\n",
       "    <tr>\n",
       "      <th>9</th>\n",
       "      <td>9</td>\n",
       "      <td>4</td>\n",
       "      <td>4</td>\n",
       "    </tr>\n",
       "  </tbody>\n",
       "</table>\n",
       "</div>"
      ],
      "text/plain": [
       "   nodeId  propertyValue  subject\n",
       "0       0            100      100\n",
       "1       1              1        1\n",
       "2       2              2        2\n",
       "3       3              2        2\n",
       "4       4              3        3\n",
       "5       5              3        3\n",
       "6       6              4        4\n",
       "7       7            100      100\n",
       "8       8            100      100\n",
       "9       9              4        4"
      ]
     },
     "execution_count": 33,
     "metadata": {},
     "output_type": "execute_result"
    }
   ],
   "source": [
    "# Retrieve node information from Neo4j using the node IDs from the prediction result\n",
    "nodes = gds.util.asNodes(predicted_fastrp.nodeId.to_list())\n",
    "\n",
    "# Create a new DataFrame containing node IDs along with node properties\n",
    "nodes_df = pd.DataFrame([(node.id, node[\"subject\"]) for node in nodes], columns=[\"nodeId\", \"subject\"])\n",
    "\n",
    "# Merge with the prediction result on node IDs, to check the predicted value\n",
    "# against the original subject\n",
    "#\n",
    "# NOTE: This could also be replaced by just appending `node[\"subject\"]` as a\n",
    "# Series since the node order would not change, but a proper merge (or join)\n",
    "# is clearer and less prone to errors.\n",
    "predicted_fastrp.merge(nodes_df, on=\"nodeId\")"
   ]
  },
  {
   "cell_type": "markdown",
   "metadata": {
    "id": "Z27MnchLr9mi"
   },
   "source": [
    "As we can see, the prediction for all the holdout nodes is accurate."
   ]
  },
  {
   "cell_type": "markdown",
   "metadata": {
    "id": "UdEVypaiMc5d"
   },
   "source": [
    "## Write result back to Neo4j"
   ]
  },
  {
   "cell_type": "code",
   "execution_count": 34,
   "metadata": {
    "colab": {
     "background_save": true
    },
    "id": "aKuUQwxbPOaV"
   },
   "outputs": [
    {
     "name": "stderr",
     "output_type": "stream",
     "text": [
      "Node Classification Predict Pipeline: 100%|██████████| 100.0/100 [00:00<00:00, 134.49%/s]\n"
     ]
    },
    {
     "data": {
      "text/plain": [
       "nodePropertiesWritten                                                 5416\n",
       "writeMillis                                                            199\n",
       "postProcessingMillis                                                     0\n",
       "preProcessingMillis                                                      0\n",
       "computeMillis                                                          948\n",
       "configuration            {'graphName': 'cora-graph', 'jobId': '5453396e...\n",
       "Name: 0, dtype: object"
      ]
     },
     "execution_count": 34,
     "metadata": {},
     "output_type": "execute_result"
    }
   ],
   "source": [
    "model_fastrp.predict_write(\n",
    "    G,\n",
    "    writeProperty=\"predictedSubject\",\n",
    "    modelName=\"cora-pipeline-model-fastrp\",\n",
    "    predictedProbabilityProperty=\"predictedProbabilities\",\n",
    ")"
   ]
  },
  {
   "cell_type": "markdown",
   "metadata": {
    "id": "plRCiikGOofd"
   },
   "source": [
    "## Cleanup\n",
    "\n",
    "When the graph, the model and the pipeline are no longer needed, they should be dropped to free up memory:"
   ]
  },
  {
   "cell_type": "code",
   "execution_count": null,
   "metadata": {
    "id": "RFWzcrX3ORXI"
   },
   "outputs": [],
   "source": [
    "model.drop()\n",
    "model_fastrp.drop()\n",
    "node_pipeline.drop()\n",
    "node_pipeline_fastrp.drop()\n",
    "\n",
    "G.drop()\n",
    "gds.run_cypher(\"MATCH (n) DETACH DELETE n\")"
   ]
  },
  {
   "cell_type": "markdown",
   "metadata": {},
   "source": [
    "It is good practice to close the client as well:"
   ]
  },
  {
   "cell_type": "code",
   "execution_count": 68,
   "metadata": {},
   "outputs": [],
   "source": [
    "gds.close()"
   ]
  }
 ],
 "metadata": {
  "colab": {
   "authorship_tag": "ABX9TyN7QqVTzAahL3BPKHgRt8jS",
   "collapsed_sections": [],
   "include_colab_link": true,
   "name": "Machine learning pipelines - Node classification example",
   "provenance": []
  },
  "kernelspec": {
   "display_name": "Python 3.10.5 ('venv': venv)",
   "language": "python",
   "name": "python3"
  },
  "language_info": {
   "codemirror_mode": {
    "name": "ipython",
    "version": 3
   },
   "file_extension": ".py",
   "mimetype": "text/x-python",
   "name": "python",
   "nbconvert_exporter": "python",
   "pygments_lexer": "ipython3",
   "version": "3.10.8"
  },
  "vscode": {
   "interpreter": {
    "hash": "d9b85228d1674a60a9aba6bdb3ec2509e82e7a19678e59e4fceb33f4c3ba222b"
   }
  }
 },
 "nbformat": 4,
 "nbformat_minor": 0
}
