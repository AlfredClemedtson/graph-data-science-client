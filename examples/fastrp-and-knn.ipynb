{
 "cells": [
  {
   "cell_type": "markdown",
   "id": "5cb64c55",
   "metadata": {},
   "source": [
    "# graphdatascience example\n",
    "\n",
    "This notebook exemplifies how to use the `graphdatascience` Python library to operate Neo4j GDS.\n",
    "It runs the FastRP+kNN end-to-end example from the GDS Manual, found [here](https://neo4j.com/docs/graph-data-science/current/end-to-end-examples/fastrp-knn-example).\n",
    "\n",
    "\n",
    "## Prerequisites\n",
    "\n",
    "Running this notebook requires a localhost Neo4j server with a recent GDS version (2.0+) installed.\n",
    "We recommend using Neo4j Desktop.\n",
    "\n",
    "Also required are the Python libraries neo4j ([Neo4j Python Driver](https://neo4j.com/docs/api/python-driver/current/index.html)) and of course the `graphdatascience` (see README for installation instructions)."
   ]
  },
  {
   "cell_type": "code",
   "execution_count": null,
   "id": "44abe56c",
   "metadata": {},
   "outputs": [],
   "source": [
    "from graphdatascience import GraphDataScience\n",
    "\n",
    "# Use Neo4j URI and credentials according to your setup\n",
    "gds = GraphDataScience(\"bolt://localhost:7687\", auth=None)"
   ]
  },
  {
   "cell_type": "code",
   "execution_count": null,
   "id": "1da893ee",
   "metadata": {},
   "outputs": [],
   "source": [
    "# Create some data in Neo4j\n",
    "gds.run_cypher(\n",
    "    \"\"\"\n",
    "        CREATE\n",
    "         (dan:Person {name: 'Dan'}),\n",
    "         (annie:Person {name: 'Annie'}),\n",
    "         (matt:Person {name: 'Matt'}),\n",
    "         (jeff:Person {name: 'Jeff'}),\n",
    "         (brie:Person {name: 'Brie'}),\n",
    "         (elsa:Person {name: 'Elsa'}),\n",
    "\n",
    "         (cookies:Product {name: 'Cookies'}),\n",
    "         (tomatoes:Product {name: 'Tomatoes'}),\n",
    "         (cucumber:Product {name: 'Cucumber'}),\n",
    "         (celery:Product {name: 'Celery'}),\n",
    "         (kale:Product {name: 'Kale'}),\n",
    "         (milk:Product {name: 'Milk'}),\n",
    "         (chocolate:Product {name: 'Chocolate'}),\n",
    "\n",
    "         (dan)-[:BUYS {amount: 1.2}]->(cookies),\n",
    "         (dan)-[:BUYS {amount: 3.2}]->(milk),\n",
    "         (dan)-[:BUYS {amount: 2.2}]->(chocolate),\n",
    "\n",
    "         (annie)-[:BUYS {amount: 1.2}]->(cucumber),\n",
    "         (annie)-[:BUYS {amount: 3.2}]->(milk),\n",
    "         (annie)-[:BUYS {amount: 3.2}]->(tomatoes),\n",
    "\n",
    "         (matt)-[:BUYS {amount: 3}]->(tomatoes),\n",
    "         (matt)-[:BUYS {amount: 2}]->(kale),\n",
    "         (matt)-[:BUYS {amount: 1}]->(cucumber),\n",
    "\n",
    "         (jeff)-[:BUYS {amount: 3}]->(cookies),\n",
    "         (jeff)-[:BUYS {amount: 2}]->(milk),\n",
    "\n",
    "         (brie)-[:BUYS {amount: 1}]->(tomatoes),\n",
    "         (brie)-[:BUYS {amount: 2}]->(milk),\n",
    "         (brie)-[:BUYS {amount: 2}]->(kale),\n",
    "         (brie)-[:BUYS {amount: 3}]->(cucumber),\n",
    "         (brie)-[:BUYS {amount: 0.3}]->(celery),\n",
    "\n",
    "         (elsa)-[:BUYS {amount: 3}]->(chocolate),\n",
    "         (elsa)-[:BUYS {amount: 3}]->(milk)\n",
    "        \"\"\"\n",
    ")"
   ]
  },
  {
   "cell_type": "code",
   "execution_count": null,
   "id": "a57cd9f6",
   "metadata": {},
   "outputs": [],
   "source": [
    "# Estimate memory of doing native graph loading\n",
    "node_projection = [\"Person\", \"Product\"]\n",
    "relationship_projection = {\n",
    "    \"BUYS\": {\"orientation\": \"UNDIRECTED\", \"properties\": \"amount\"}\n",
    "}\n",
    "result = gds.graph.project.estimate(node_projection, relationship_projection)\n",
    "\n",
    "print(f\"Required memory for native loading: {result['requiredMemory']}\")"
   ]
  },
  {
   "cell_type": "code",
   "execution_count": null,
   "id": "35c72bd4",
   "metadata": {},
   "outputs": [],
   "source": [
    "# Do native loading\n",
    "G, _ = gds.graph.project(\"purchases\", node_projection, relationship_projection)\n",
    "\n",
    "print(f\"Graph named '{G.name()}' projected\")"
   ]
  },
  {
   "cell_type": "code",
   "execution_count": null,
   "id": "f3e6916f",
   "metadata": {},
   "outputs": [],
   "source": [
    "# Estimate memory of running FastRP\n",
    "result = gds.fastRP.mutate.estimate(\n",
    "    G,\n",
    "    mutateProperty=\"embedding\",\n",
    "    embeddingDimension=4,\n",
    "    relationshipWeightProperty=\"amount\",\n",
    "    iterationWeights=[0.8, 1, 1, 1],\n",
    ")\n",
    "\n",
    "print(f\"Required memory for running FastRP: {result['requiredMemory']}\")"
   ]
  },
  {
   "cell_type": "code",
   "execution_count": null,
   "id": "8c2a3932",
   "metadata": {},
   "outputs": [],
   "source": [
    "# Run FastRP and mutate projection with result\n",
    "result = gds.fastRP.mutate(\n",
    "    G,\n",
    "    mutateProperty=\"embedding\",\n",
    "    embeddingDimension=4,\n",
    "    relationshipWeightProperty=\"amount\",\n",
    "    iterationWeights=[0.8, 1, 1, 1],\n",
    ")\n",
    "\n",
    "print(f\"Embedding vectors produced: {result['nodePropertiesWritten']}\")"
   ]
  },
  {
   "cell_type": "code",
   "execution_count": null,
   "id": "9b132f95",
   "metadata": {},
   "outputs": [],
   "source": [
    "# Run kNN and write back to db (skip mem. estimation this time...)\n",
    "result = gds.knn.write(\n",
    "    G,\n",
    "    topK=2,\n",
    "    nodeProperties=[\"embedding\"],\n",
    "    writeRelationshipType=\"SIMILAR\",\n",
    "    writeProperty=\"score\",\n",
    ")\n",
    "\n",
    "print(f\"Relationships produced: {result['relationshipsWritten']}\")\n",
    "print(f\"Nodes compared: {result['nodesCompared']}\")\n",
    "print(f\"Mean similarity: {result['similarityDistribution']['mean']}\")"
   ]
  },
  {
   "cell_type": "code",
   "execution_count": null,
   "id": "ebf3e425",
   "metadata": {},
   "outputs": [],
   "source": [
    "# Rejoice in relationship in the Neo4j database!\n",
    "query = \"\"\"\n",
    "        MATCH (p1:Person)-[r:SIMILAR]->(p2:Person)\n",
    "        RETURN p1.name AS person1, p2.name AS person2, r.score AS similarity\n",
    "        ORDER BY similarity DESCENDING, person1, person2\n",
    "        \"\"\"\n",
    "\n",
    "# Print the most similar person nodes\n",
    "gds.run_cypher(query)"
   ]
  },
  {
   "cell_type": "code",
   "execution_count": null,
   "id": "fe3961e0",
   "metadata": {},
   "outputs": [],
   "source": [
    "# Clean up database\n",
    "gds.run_cypher(\"MATCH (n) DETACH DELETE n\")\n",
    "# Clean up graph catalog\n",
    "G.drop()"
   ]
  },
  {
   "cell_type": "code",
   "execution_count": null,
   "id": "efb426f1",
   "metadata": {},
   "outputs": [],
   "source": []
  }
 ],
 "metadata": {
  "kernelspec": {
   "display_name": "Python 3 (ipykernel)",
   "language": "python",
   "name": "python3"
  },
  "language_info": {
   "codemirror_mode": {
    "name": "ipython",
    "version": 3
   },
   "file_extension": ".py",
   "mimetype": "text/x-python",
   "name": "python",
   "nbconvert_exporter": "python",
   "pygments_lexer": "ipython3",
   "version": "3.8.10"
  }
 },
 "nbformat": 4,
 "nbformat_minor": 5
}
