{
 "cells": [
  {
   "cell_type": "markdown",
   "id": "5cb64c55",
   "metadata": {},
   "source": [
    "# gdsclient example demonstration\n",
    "\n",
    "This notebook exemplifies how to use the `gdsclient` Python library to operate Neo4j GDS.\n",
    "It runs the FastRP+kNN end-to-end example from the GDS Manual, found [here](https://neo4j.com/docs/graph-data-science/current/end-to-end-examples/fastrp-knn-example).\n",
    "\n",
    "\n",
    "## Prerequisites\n",
    "\n",
    "Running this notebook requires a localhost Neo4j server with a recent GDS version (2.0+) installed.\n",
    "We recommend using Neo4j Desktop.\n",
    "\n",
    "Also required are the Python libraries neo4j ([Neo4j Python Driver](https://neo4j.com/docs/api/python-driver/current/index.html)) and of course the gdsclient (see README for installation instructions)."
   ]
  },
  {
   "cell_type": "code",
   "execution_count": 2,
   "id": "44abe56c",
   "metadata": {},
   "outputs": [],
   "source": [
    "from neo4j import GraphDatabase\n",
    "from gdsclient import Neo4jQueryRunner, GraphDataScience\n",
    "\n",
    "# Set up driver and gds module\n",
    "URI = \"bolt://localhost:7687\"  # Override according to your setup\n",
    "driver = GraphDatabase.driver(URI)  # You might also have auth set up in your db\n",
    "runner = Neo4jQueryRunner(driver)\n",
    "gds = GraphDataScience(runner)"
   ]
  },
  {
   "cell_type": "code",
   "execution_count": 44,
   "id": "1da893ee",
   "metadata": {},
   "outputs": [
    {
     "data": {
      "text/plain": [
       "[]"
      ]
     },
     "execution_count": 44,
     "metadata": {},
     "output_type": "execute_result"
    }
   ],
   "source": [
    "# Create some data in Neo4j\n",
    "runner.run_query(\n",
    "    \"\"\"\n",
    "        CREATE\n",
    "         (dan:Person {name: 'Dan'}),\n",
    "         (annie:Person {name: 'Annie'}),\n",
    "         (matt:Person {name: 'Matt'}),\n",
    "         (jeff:Person {name: 'Jeff'}),\n",
    "         (brie:Person {name: 'Brie'}),\n",
    "         (elsa:Person {name: 'Elsa'}),\n",
    "\n",
    "         (cookies:Product {name: 'Cookies'}),\n",
    "         (tomatoes:Product {name: 'Tomatoes'}),\n",
    "         (cucumber:Product {name: 'Cucumber'}),\n",
    "         (celery:Product {name: 'Celery'}),\n",
    "         (kale:Product {name: 'Kale'}),\n",
    "         (milk:Product {name: 'Milk'}),\n",
    "         (chocolate:Product {name: 'Chocolate'}),\n",
    "\n",
    "         (dan)-[:BUYS {amount: 1.2}]->(cookies),\n",
    "         (dan)-[:BUYS {amount: 3.2}]->(milk),\n",
    "         (dan)-[:BUYS {amount: 2.2}]->(chocolate),\n",
    "\n",
    "         (annie)-[:BUYS {amount: 1.2}]->(cucumber),\n",
    "         (annie)-[:BUYS {amount: 3.2}]->(milk),\n",
    "         (annie)-[:BUYS {amount: 3.2}]->(tomatoes),\n",
    "\n",
    "         (matt)-[:BUYS {amount: 3}]->(tomatoes),\n",
    "         (matt)-[:BUYS {amount: 2}]->(kale),\n",
    "         (matt)-[:BUYS {amount: 1}]->(cucumber),\n",
    "\n",
    "         (jeff)-[:BUYS {amount: 3}]->(cookies),\n",
    "         (jeff)-[:BUYS {amount: 2}]->(milk),\n",
    "\n",
    "         (brie)-[:BUYS {amount: 1}]->(tomatoes),\n",
    "         (brie)-[:BUYS {amount: 2}]->(milk),\n",
    "         (brie)-[:BUYS {amount: 2}]->(kale),\n",
    "         (brie)-[:BUYS {amount: 3}]->(cucumber),\n",
    "         (brie)-[:BUYS {amount: 0.3}]->(celery),\n",
    "\n",
    "         (elsa)-[:BUYS {amount: 3}]->(chocolate),\n",
    "         (elsa)-[:BUYS {amount: 3}]->(milk)\n",
    "        \"\"\"\n",
    ")"
   ]
  },
  {
   "cell_type": "code",
   "execution_count": 34,
   "id": "a57cd9f6",
   "metadata": {},
   "outputs": [
    {
     "name": "stdout",
     "output_type": "stream",
     "text": [
      "Required memory for native loading: 545 KiB\n"
     ]
    }
   ],
   "source": [
    "# Estimate memory of doing native graph loading\n",
    "node_projection = [\"Person\", \"Product\"]\n",
    "relationship_projection = {\n",
    "    \"BUYS\": {\"orientation\": \"UNDIRECTED\", \"properties\": \"amount\"}\n",
    "}\n",
    "result = gds.graph.project.estimate(node_projection, relationship_projection)\n",
    "\n",
    "print(f\"Required memory for native loading: {result[0]['requiredMemory']}\")"
   ]
  },
  {
   "cell_type": "code",
   "execution_count": 35,
   "id": "35c72bd4",
   "metadata": {},
   "outputs": [
    {
     "name": "stdout",
     "output_type": "stream",
     "text": [
      "Graph named purchases projected\n"
     ]
    }
   ],
   "source": [
    "# Do native loading\n",
    "G = gds.graph.project(\"purchases\", node_projection, relationship_projection)\n",
    "\n",
    "print(f\"Graph named {G.name()} projected\")"
   ]
  },
  {
   "cell_type": "code",
   "execution_count": 7,
   "id": "f3e6916f",
   "metadata": {},
   "outputs": [
    {
     "name": "stdout",
     "output_type": "stream",
     "text": [
      "Required memory for native loading: 2224 Bytes\n"
     ]
    }
   ],
   "source": [
    "# Estimate memory of running FastRP\n",
    "result = gds.fastRP.mutate.estimate(\n",
    "    G,\n",
    "    mutateProperty=\"embedding\",\n",
    "    embeddingDimension=4,\n",
    "    relationshipWeightProperty=\"amount\",\n",
    "    iterationWeights=[0.8, 1, 1, 1],\n",
    ")\n",
    "\n",
    "print(f\"Required memory for running FastRP: {result[0]['requiredMemory']}\")"
   ]
  },
  {
   "cell_type": "code",
   "execution_count": 36,
   "id": "8c2a3932",
   "metadata": {},
   "outputs": [
    {
     "name": "stdout",
     "output_type": "stream",
     "text": [
      "Embedding vectors produced: 13\n"
     ]
    }
   ],
   "source": [
    "# Run FastRP and mutate projection with result\n",
    "result = gds.fastRP.mutate(\n",
    "    G,\n",
    "    mutateProperty=\"embedding\",\n",
    "    embeddingDimension=4,\n",
    "    relationshipWeightProperty=\"amount\",\n",
    "    iterationWeights=[0.8, 1, 1, 1],\n",
    ")\n",
    "\n",
    "print(f\"Embedding vectors produced: {result[0]['nodePropertiesWritten']}\")"
   ]
  },
  {
   "cell_type": "code",
   "execution_count": 37,
   "id": "9b132f95",
   "metadata": {},
   "outputs": [
    {
     "name": "stdout",
     "output_type": "stream",
     "text": [
      "Relationships produced: 26\n",
      "Nodes compared: 13\n",
      "Mean similarity: 0.9288262587327224\n"
     ]
    }
   ],
   "source": [
    "# Run kNN and write back to db (skip mem. estimation this time...)\n",
    "result = gds.beta.knn.write(\n",
    "    G,\n",
    "    topK=2,\n",
    "    nodeWeightProperty=\"embedding\",\n",
    "    writeRelationshipType=\"SIMILAR\",\n",
    "    writeProperty=\"score\",\n",
    ")\n",
    "\n",
    "print(f\"Relationships produced: {result[0]['relationshipsWritten']}\")\n",
    "print(f\"Nodes compared: {result[0]['nodesCompared']}\")\n",
    "print(f\"Mean similarity: {result[0]['similarityDistribution']['mean']}\")"
   ]
  },
  {
   "cell_type": "code",
   "execution_count": 42,
   "id": "ebf3e425",
   "metadata": {},
   "outputs": [
    {
     "data": {
      "text/plain": [
       "[{'person1': 'Dan', 'person2': 'Elsa', 'similarity': 0.9828869104385376},\n",
       " {'person1': 'Elsa', 'person2': 'Dan', 'similarity': 0.9828869104385376},\n",
       " {'person1': 'Brie', 'person2': 'Matt', 'similarity': 0.9742093682289124},\n",
       " {'person1': 'Matt', 'person2': 'Brie', 'similarity': 0.9742093682289124},\n",
       " {'person1': 'Jeff', 'person2': 'Dan', 'similarity': 0.87209552526474}]"
      ]
     },
     "execution_count": 42,
     "metadata": {},
     "output_type": "execute_result"
    }
   ],
   "source": [
    "# Rejoice in relationship in the Neo4j database!\n",
    "query = \"\"\"\n",
    "        MATCH (p1:Person)-[r:SIMILAR]->(p2:Person)\n",
    "        RETURN p1.name AS person1, p2.name AS person2, r.score AS similarity\n",
    "        ORDER BY similarity DESCENDING, person1, person2\n",
    "        \"\"\"\n",
    "\n",
    "# Print the most similar person nodes\n",
    "runner.run_query(query)"
   ]
  },
  {
   "cell_type": "code",
   "execution_count": 46,
   "id": "fe3961e0",
   "metadata": {},
   "outputs": [
    {
     "data": {
      "text/plain": [
       "[]"
      ]
     },
     "execution_count": 46,
     "metadata": {},
     "output_type": "execute_result"
    }
   ],
   "source": [
    "# Clean up database\n",
    "runner.run_query(\"MATCH (n) DETACH DELETE n\")\n",
    "# Clean up graph catalog\n",
    "G.drop()"
   ]
  }
 ],
 "metadata": {
  "kernelspec": {
   "display_name": "Python 3 (ipykernel)",
   "language": "python",
   "name": "python3"
  },
  "language_info": {
   "codemirror_mode": {
    "name": "ipython",
    "version": 3
   },
   "file_extension": ".py",
   "mimetype": "text/x-python",
   "name": "python",
   "nbconvert_exporter": "python",
   "pygments_lexer": "ipython3",
   "version": "3.8.10"
  }
 },
 "nbformat": 4,
 "nbformat_minor": 5
}
