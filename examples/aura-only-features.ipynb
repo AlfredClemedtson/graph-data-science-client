{
 "cells": [
  {
   "cell_type": "code",
   "execution_count": null,
   "metadata": {},
   "outputs": [],
   "source": [
    "%pip install requests_oauthlib polling2"
   ]
  },
  {
   "cell_type": "markdown",
   "metadata": {},
   "source": []
  },
  {
   "cell_type": "code",
   "execution_count": 1,
   "metadata": {
    "ExecuteTime": {
     "end_time": "2023-10-17T14:58:35.728728Z",
     "start_time": "2023-10-17T14:58:35.726899Z"
    }
   },
   "outputs": [],
   "source": [
    "CLIENT_ID = \"\"\n",
    "CLIENT_SECRET = \"\""
   ]
  },
  {
   "cell_type": "code",
   "execution_count": 2,
   "metadata": {
    "ExecuteTime": {
     "end_time": "2023-10-17T14:58:39.095442Z",
     "start_time": "2023-10-17T14:58:37.529728Z"
    }
   },
   "outputs": [
    {
     "data": {
      "text/plain": "[SessionInfo(name='foo-bar')]"
     },
     "execution_count": 2,
     "metadata": {},
     "output_type": "execute_result"
    }
   ],
   "source": [
    "from graphdatascience.query_runner.aura_db_arrow_query_runner import AuraDbConnectionInfo\n",
    "from graphdatascience.aura_sessions import AuraSessions\n",
    "\n",
    "sessions = AuraSessions(AuraDbConnectionInfo(\"\", (\"\", \"\")), (CLIENT_ID, CLIENT_SECRET), \"046046d1-6996-53e4-8880-5b822766e1f9\")\n",
    "\n",
    "sessions.list_sessions()"
   ]
  },
  {
   "cell_type": "code",
   "execution_count": 3,
   "metadata": {
    "ExecuteTime": {
     "end_time": "2023-10-17T14:58:42.214626Z",
     "start_time": "2023-10-17T14:58:41.191866Z"
    }
   },
   "outputs": [
    {
     "ename": "RuntimeError",
     "evalue": "Session with name `foo-bar` already exists.",
     "output_type": "error",
     "traceback": [
      "\u001B[0;31m---------------------------------------------------------------------------\u001B[0m",
      "\u001B[0;31mRuntimeError\u001B[0m                              Traceback (most recent call last)",
      "Cell \u001B[0;32mIn[3], line 1\u001B[0m\n\u001B[0;32m----> 1\u001B[0m sessions\u001B[38;5;241m.\u001B[39mcreate_gds(\u001B[38;5;124m\"\u001B[39m\u001B[38;5;124mfoo-bar\u001B[39m\u001B[38;5;124m\"\u001B[39m)\n",
      "File \u001B[0;32m~/gitRoots/graph-data-science-client/graphdatascience/aura_sessions.py:36\u001B[0m, in \u001B[0;36mAuraSessions.create_gds\u001B[0;34m(self, session_name)\u001B[0m\n\u001B[1;32m     34\u001B[0m \u001B[38;5;28;01mdef\u001B[39;00m \u001B[38;5;21mcreate_gds\u001B[39m(\u001B[38;5;28mself\u001B[39m, session_name: \u001B[38;5;28mstr\u001B[39m) \u001B[38;5;241m-\u001B[39m\u001B[38;5;241m>\u001B[39m GraphDataScience:\n\u001B[1;32m     35\u001B[0m     \u001B[38;5;28;01mif\u001B[39;00m session_name \u001B[38;5;129;01min\u001B[39;00m [session\u001B[38;5;241m.\u001B[39mname \u001B[38;5;28;01mfor\u001B[39;00m session \u001B[38;5;129;01min\u001B[39;00m \u001B[38;5;28mself\u001B[39m\u001B[38;5;241m.\u001B[39mlist_sessions()]:\n\u001B[0;32m---> 36\u001B[0m         \u001B[38;5;28;01mraise\u001B[39;00m \u001B[38;5;167;01mRuntimeError\u001B[39;00m(\u001B[38;5;124mf\u001B[39m\u001B[38;5;124m\"\u001B[39m\u001B[38;5;124mSession with name `\u001B[39m\u001B[38;5;132;01m{\u001B[39;00msession_name\u001B[38;5;132;01m}\u001B[39;00m\u001B[38;5;124m` already exists.\u001B[39m\u001B[38;5;124m\"\u001B[39m)\n\u001B[1;32m     38\u001B[0m     create_details \u001B[38;5;241m=\u001B[39m \u001B[38;5;28mself\u001B[39m\u001B[38;5;241m.\u001B[39m_aura_api\u001B[38;5;241m.\u001B[39mcreate_instance(AuraSessions\u001B[38;5;241m.\u001B[39m_instance_name(session_name))\n\u001B[1;32m     39\u001B[0m     \u001B[38;5;28mself\u001B[39m\u001B[38;5;241m.\u001B[39m_aura_api\u001B[38;5;241m.\u001B[39mwait_for_instance_running(create_details\u001B[38;5;241m.\u001B[39mid)\n",
      "\u001B[0;31mRuntimeError\u001B[0m: Session with name `foo-bar` already exists."
     ]
    }
   ],
   "source": [
    "sessions.create_gds(\"foo-bar\")"
   ]
  },
  {
   "cell_type": "code",
   "execution_count": 4,
   "metadata": {
    "ExecuteTime": {
     "end_time": "2023-10-17T15:01:09.515546Z",
     "start_time": "2023-10-17T15:01:07.351134Z"
    }
   },
   "outputs": [
    {
     "name": "stdout",
     "output_type": "stream",
     "text": [
      "{'cloud_provider': 'gcp', 'connection_url': None, 'id': '9ec3615b', 'memory': '8GB', 'name': 'gds-session-foo-bar', 'region': 'europe-west1', 'status': 'destroying', 'tenant_id': '046046d1-6996-53e4-8880-5b822766e1f9', 'type': 'enterprise-ds'}\n"
     ]
    },
    {
     "data": {
      "text/plain": "True"
     },
     "execution_count": 4,
     "metadata": {},
     "output_type": "execute_result"
    }
   ],
   "source": [
    "sessions.delete_gds(\"foo-bar\")"
   ]
  },
  {
   "cell_type": "code",
   "execution_count": 5,
   "metadata": {
    "ExecuteTime": {
     "end_time": "2023-10-17T15:01:30.944027Z",
     "start_time": "2023-10-17T15:01:29.945058Z"
    }
   },
   "outputs": [
    {
     "data": {
      "text/plain": "[]"
     },
     "execution_count": 5,
     "metadata": {},
     "output_type": "execute_result"
    }
   ],
   "source": [
    "sessions.list_sessions()"
   ]
  }
 ],
 "metadata": {
  "language_info": {
   "name": "python"
  },
  "kernelspec": {
   "name": "python3",
   "language": "python",
   "display_name": "Python 3 (ipykernel)"
  }
 },
 "nbformat": 4,
 "nbformat_minor": 2
}
