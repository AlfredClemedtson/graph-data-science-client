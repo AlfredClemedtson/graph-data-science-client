{
 "cells": [
  {
   "cell_type": "markdown",
   "metadata": {},
   "source": []
  },
  {
   "cell_type": "code",
   "execution_count": 5,
   "metadata": {},
   "outputs": [],
   "source": [
    "import os\n",
    "\n",
    "CLIENT_ID = os.environ.get('CLIENT_ID')\n",
    "CLIENT_SECRET = os.environ.get('CLIENT_SECRET')"
   ]
  },
  {
   "cell_type": "code",
   "execution_count": null,
   "metadata": {},
   "outputs": [],
   "source": [
    "from graphdatascience.query_runner.aura_db_arrow_query_runner import AuraDbConnectionInfo\n",
    "from graphdatascience.aura_sessions import AuraSessions\n",
    "\n",
    "sessions = AuraSessions(\n",
    "    AuraDbConnectionInfo(\"\", (\"\", \"\")), (CLIENT_ID, CLIENT_SECRET), \"046046d1-6996-53e4-8880-5b822766e1f9\"\n",
    ")\n",
    "\n",
    "sessions.list_sessions()"
   ]
  },
  {
   "cell_type": "code",
   "execution_count": null,
   "metadata": {},
   "outputs": [],
   "source": [
    "# FIXME - create details dont have a uri yet -- use the details from wait until running\n",
    "gds = sessions.create_gds(\"foo-bar\")"
   ]
  },
  {
   "cell_type": "code",
   "execution_count": null,
   "metadata": {},
   "outputs": [],
   "source": [
    "gds.version()"
   ]
  },
  {
   "cell_type": "code",
   "execution_count": null,
   "metadata": {},
   "outputs": [],
   "source": [
    "sessions.delete_gds(\"foo-bar\")"
   ]
  },
  {
   "cell_type": "code",
   "execution_count": null,
   "metadata": {},
   "outputs": [],
   "source": [
    "sessions.list_sessions()"
   ]
  }
 ],
 "metadata": {
  "language_info": {
   "name": "python"
  }
 },
 "nbformat": 4,
 "nbformat_minor": 2
}
