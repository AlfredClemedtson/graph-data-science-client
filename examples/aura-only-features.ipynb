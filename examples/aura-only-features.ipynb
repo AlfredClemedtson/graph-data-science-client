{
 "cells": [
  {
   "cell_type": "markdown",
   "metadata": {},
   "source": [
    "# Aura + GDS"
   ]
  },
  {
   "cell_type": "code",
   "execution_count": null,
   "metadata": {},
   "outputs": [],
   "source": [
    "import os\n",
    "\n",
    "CLIENT_ID = os.environ.get(\"CLIENT_ID\")\n",
    "CLIENT_SECRET = os.environ.get(\"CLIENT_SECRET\")\n",
    "\n",
    "# for testing purposes\n",
    "os.environ[\"AURA_ENV\"] = \"envgdssync\""
   ]
  },
  {
   "cell_type": "code",
   "execution_count": null,
   "metadata": {},
   "outputs": [],
   "source": [
    "from graphdatascience.query_runner.aura_db_arrow_query_runner import AuraDbConnectionInfo\n",
    "from graphdatascience.aura_sessions import AuraSessions\n",
    "\n",
    "db_credentials = AuraDbConnectionInfo(\n",
    "    \"neo4j+ssc://53a97a3e-envgdssync.databases.neo4j-dev.io\", (\"neo4j\", \"eWONWzYrYJ8CoVdiU4aWGaGFUHzJxVpEgIU-CphYQRE\")\n",
    ")  # Add AuraDB parts\n",
    "sessions = AuraSessions(db_credentials, (CLIENT_ID, CLIENT_SECRET))\n",
    "\n",
    "sessions.list_sessions()"
   ]
  },
  {
   "cell_type": "code",
   "execution_count": null,
   "metadata": {},
   "outputs": [],
   "source": [
    "gds = sessions.create_gds(\"foo-bar\", \"my-password\")"
   ]
  },
  {
   "cell_type": "code",
   "execution_count": null,
   "metadata": {},
   "outputs": [],
   "source": [
    "gds = sessions.connect(\"foo-bar\", \"my-password\")"
   ]
  },
  {
   "cell_type": "markdown",
   "metadata": {},
   "source": []
  },
  {
   "cell_type": "code",
   "execution_count": null,
   "metadata": {},
   "outputs": [],
   "source": [
    "gds.version()\n",
    "\n",
    "gds.run_cypher(\"CALL dbms.components() YIELD versions RETURN collect(versions)\")"
   ]
  },
  {
   "cell_type": "code",
   "execution_count": null,
   "metadata": {},
   "outputs": [],
   "source": [
    "gds.alpha.graph.project.remote(\"my-g\", \"RETURN gds.graph.project.remote()\", \"neo4j\")"
   ]
  },
  {
   "cell_type": "code",
   "execution_count": null,
   "metadata": {},
   "outputs": [],
   "source": [
    "sessions.delete_gds(\"foo-bar\")"
   ]
  },
  {
   "cell_type": "code",
   "execution_count": null,
   "metadata": {},
   "outputs": [],
   "source": [
    "sessions.list_sessions()"
   ]
  },
  {
   "cell_type": "code",
   "execution_count": 34,
   "metadata": {},
   "outputs": [
    {
     "data": {
      "text/html": [
       "<div>\n",
       "<style scoped>\n",
       "    .dataframe tbody tr th:only-of-type {\n",
       "        vertical-align: middle;\n",
       "    }\n",
       "\n",
       "    .dataframe tbody tr th {\n",
       "        vertical-align: top;\n",
       "    }\n",
       "\n",
       "    .dataframe thead th {\n",
       "        text-align: right;\n",
       "    }\n",
       "</style>\n",
       "<table border=\"1\" class=\"dataframe\">\n",
       "  <thead>\n",
       "    <tr style=\"text-align: right;\">\n",
       "      <th></th>\n",
       "      <th>id</th>\n",
       "      <th>name</th>\n",
       "      <th>creationDate</th>\n",
       "    </tr>\n",
       "  </thead>\n",
       "  <tbody>\n",
       "    <tr>\n",
       "      <th>0</th>\n",
       "      <td>B88A7A2287962ADDA27A7B93B8A0FA2C43C055274EA937...</td>\n",
       "      <td>system</td>\n",
       "      <td>2023-10-19T09:48:18.168Z</td>\n",
       "    </tr>\n",
       "  </tbody>\n",
       "</table>\n",
       "</div>"
      ],
      "text/plain": [
       "                                                  id    name  \\\n",
       "0  B88A7A2287962ADDA27A7B93B8A0FA2C43C055274EA937...  system   \n",
       "\n",
       "               creationDate  \n",
       "0  2023-10-19T09:48:18.168Z  "
      ]
     },
     "metadata": {},
     "output_type": "display_data"
    }
   ],
   "source": [
    "from neo4j import GraphDatabase\n",
    "\n",
    "with GraphDatabase.driver(\"neo4j+ssc://53a97a3e-envgdssync.databases.neo4j-dev.io\", auth=db_credentials.auth) as neo4j_drvier:\n",
    "    with neo4j_drvier.session() as session: \n",
    "        display(session.run(\"CALL dbms.info()\").to_df())\n",
    "\n",
    "    \n",
    "\n",
    "    # neo4j_drvier.execute_query(\"CALL internal.arrow.status()\").records"
   ]
  }
 ],
 "metadata": {
  "language_info": {
   "name": "python"
  }
 },
 "nbformat": 4,
 "nbformat_minor": 2
}
