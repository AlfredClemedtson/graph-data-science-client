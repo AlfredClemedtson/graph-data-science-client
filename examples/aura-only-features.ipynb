{
 "cells": [
  {
   "cell_type": "markdown",
   "metadata": {},
   "source": [
    "# Aura + GDS"
   ]
  },
  {
   "cell_type": "code",
   "execution_count": null,
   "metadata": {},
   "outputs": [],
   "source": [
    "assert False  # this notebook is for development and not yet ready as an actual example"
   ]
  },
  {
   "cell_type": "code",
   "execution_count": null,
   "metadata": {},
   "outputs": [],
   "source": [
    "import os\n",
    "\n",
    "\n",
    "CLIENT_ID = os.environ.get(\"CLIENT_ID\")\n",
    "CLIENT_SECRET = os.environ.get(\"CLIENT_SECRET\")\n",
    "\n",
    "# for testing purposes\n",
    "os.environ[\"AURA_ENV\"] = \"envgdssync\""
   ]
  },
  {
   "cell_type": "code",
   "execution_count": null,
   "metadata": {},
   "outputs": [],
   "source": [
    "from graphdatascience.query_runner.aura_db_arrow_query_runner import AuraDbConnectionInfo\n",
    "from graphdatascience.aura_sessions import AuraSessions\n",
    "\n",
    "db_credentials = None  # Add AuraDB parts\n",
    "sessions = AuraSessions(db_credentials, (CLIENT_ID, CLIENT_SECRET))\n",
    "\n",
    "sessions.list_sessions()"
   ]
  },
  {
   "cell_type": "code",
   "execution_count": null,
   "metadata": {},
   "outputs": [],
   "source": [
    "from neo4j import GraphDatabase\n",
    "\n",
    "driver = GraphDatabase.driver(db_credentials.uri, auth=db_credentials.auth)\n",
    "with driver.session() as session:\n",
    "    session.run(\"CREATE (:User {p: 1})-[:KNOWS]->(:User {p: 2})\")"
   ]
  },
  {
   "cell_type": "code",
   "execution_count": null,
   "metadata": {},
   "outputs": [],
   "source": [
    "gds = sessions.create_gds(\"pagerank-compute\", \"my-password\")"
   ]
  },
  {
   "cell_type": "code",
   "execution_count": null,
   "metadata": {},
   "outputs": [],
   "source": [
    "gds = sessions.connect(\"pagerank-compute\", \"my-password\")"
   ]
  },
  {
   "cell_type": "markdown",
   "metadata": {},
   "source": []
  },
  {
   "cell_type": "code",
   "execution_count": null,
   "metadata": {},
   "outputs": [],
   "source": [
    "gds.version()"
   ]
  },
  {
   "cell_type": "code",
   "execution_count": null,
   "metadata": {},
   "outputs": [],
   "source": [
    "# Project a graph from AuraDB to GDS\n",
    "gds.graph.project.remoteDb(\n",
    "    \"my-g\",\n",
    "    \"\"\"\n",
    "    MATCH (n) \n",
    "    OPTIONAL MATCH (n)-->(m) \n",
    "    RETURN gds.graph.project.remote(n, m, {\n",
    "      sourceNodeProperties: {p: n.p},\n",
    "      targetNodeProperties: {p: m.p},\n",
    "      sourceNodeLabels: labels(n),\n",
    "      targetNodeLabels: labels(m),\n",
    "      relationshipType: 'T'\n",
    "    })\n",
    "    \"\"\",\n",
    ")"
   ]
  },
  {
   "cell_type": "code",
   "execution_count": null,
   "metadata": {},
   "outputs": [],
   "source": [
    "sessions.delete_gds(\"pagerank-compute\")"
   ]
  },
  {
   "cell_type": "code",
   "execution_count": null,
   "metadata": {},
   "outputs": [],
   "source": [
    "sessions.list_sessions()"
   ]
  }
 ],
 "metadata": {
  "language_info": {
   "name": "python"
  }
 },
 "nbformat": 4,
 "nbformat_minor": 2
}
