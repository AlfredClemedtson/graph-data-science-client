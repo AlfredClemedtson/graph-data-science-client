{
  "cells": [
    {
      "cell_type": "markdown",
      "metadata": {
        "colab_type": "text",
        "id": "view-in-github"
      },
      "source": [
        "<a href=\"https://colab.research.google.com/github/nvitucci/graph-data-science-client/blob/add-construct-notebook/examples/load-data-via-graph-construction.ipynb\" target=\"_parent\"><img src=\"https://colab.research.google.com/assets/colab-badge.svg\" alt=\"Open In Colab\"/></a>"
      ]
    },
    {
      "cell_type": "markdown",
      "metadata": {
        "id": "KhH0v_bwUrXp"
      },
      "source": [
        "# Load data to a projected graph via graph construction\n",
        "\n",
        "This notebook shows the usage of the `gds.alpha.graph.construct` method (available only in GDS 2.1+) to build a graph directly in memory.\n",
        "\n",
        "**NOTE:** If you are using AuraDS, it is currently not possible to write the projected graph back to Neo4j."
      ]
    },
    {
      "cell_type": "markdown",
      "metadata": {
        "id": "X5ttqidnWPTC"
      },
      "source": [
        "## Setup\n",
        "\n",
        "We need an environment where Neo4j and GDS are available, for example AuraDS (which comes with GDS preinstalled) or Neo4j Desktop. \n",
        "\n",
        "Once the credentials to this environment are available, we can install the `graphdatascience` package and create the `gds` object."
      ]
    },
    {
      "cell_type": "code",
      "execution_count": null,
      "metadata": {
        "id": "izJD_HlcAdQ0"
      },
      "outputs": [],
      "source": [
        "!pip install graphdatascience==1.3.0"
      ]
    },
    {
      "cell_type": "code",
      "execution_count": null,
      "metadata": {
        "id": "gJLQgHK_AghP"
      },
      "outputs": [],
      "source": [
        "# Import the client\n",
        "from graphdatascience import GraphDataScience\n",
        "\n",
        "# Replace with the actual credentials\n",
        "AURA_CONNECTION_URI = \"neo4j+s://xxxxxxxx.databases.neo4j.io\"\n",
        "AURA_USERNAME = \"neo4j\"\n",
        "AURA_PASSWORD = \"\"\n",
        "\n",
        "# Configure the client with AuraDS-recommended settings if using AuraDS\n",
        "gds = GraphDataScience(\n",
        "    AURA_CONNECTION_URI,\n",
        "    auth=(AURA_USERNAME, AURA_PASSWORD),\n",
        "    aura_ds=True\n",
        ")"
      ]
    },
    {
      "cell_type": "markdown",
      "metadata": {
        "id": "zOK08QpoWFKv"
      },
      "source": [
        "We also import `pandas` to create a Pandas DataFrame from the original data source."
      ]
    },
    {
      "cell_type": "code",
      "execution_count": null,
      "metadata": {
        "id": "-ikcvI-cSDoK"
      },
      "outputs": [],
      "source": [
        "import pandas as pd"
      ]
    },
    {
      "cell_type": "markdown",
      "metadata": {
        "id": "oDE2LqTXAmy8"
      },
      "source": [
        "## Load the Cora dataset"
      ]
    },
    {
      "cell_type": "code",
      "execution_count": null,
      "metadata": {
        "id": "tOZW-I2FBLm_"
      },
      "outputs": [],
      "source": [
        "# TODO: use URLs within the client repo when the notebook is added there\n",
        "CORA_CONTENT = \"https://raw.githubusercontent.com/neo4j/graph-data-science/master/test-utils/src/main/resources/cora.content\"\n",
        "CORA_CITES = \"https://raw.githubusercontent.com/neo4j/graph-data-science/master/test-utils/src/main/resources/cora.cites\""
      ]
    },
    {
      "cell_type": "markdown",
      "metadata": {
        "id": "4Y6DVaoDNNdq"
      },
      "source": [
        "We need to perform an additional preprocessing step to convert the `subject` field (which is a string in the dataset) into an integer, because node properties have to be numerical in order to be projected into a graph."
      ]
    },
    {
      "cell_type": "code",
      "execution_count": null,
      "metadata": {
        "id": "ZwPI7OHSGj1L"
      },
      "outputs": [],
      "source": [
        "# Using non-consecutive values to show class ordering later on\n",
        "\n",
        "SUBJECT_TO_ID = {\n",
        "    \"Neural_Networks\": 0,\n",
        "    \"Rule_Learning\": 1,\n",
        "    \"Reinforcement_Learning\": 2,\n",
        "    \"Probabilistic_Methods\": 3,\n",
        "    \"Theory\": 4,\n",
        "    \"Genetic_Algorithms\": 5,\n",
        "    \"Case_Based\": 6\n",
        "}"
      ]
    },
    {
      "cell_type": "code",
      "execution_count": null,
      "metadata": {
        "id": "LyW_HifGCAGv"
      },
      "outputs": [],
      "source": [
        "# Read each CSV locally as a Pandas DataFrame\n",
        "content = pd.read_csv(CORA_CONTENT, header=None)\n",
        "cites = pd.read_csv(CORA_CITES, header=None)"
      ]
    },
    {
      "cell_type": "code",
      "execution_count": null,
      "metadata": {
        "id": "yELT1ClAHnyH"
      },
      "outputs": [],
      "source": [
        "# Create a new DataFrame with a `nodeId` field, a list of node labels,\n",
        "# and the additional node properties `subject` and `features`\n",
        "nodes = pd.DataFrame().assign(\n",
        "    nodeId=content[0], \n",
        "    labels=\"Paper\", \n",
        "    subject=content[1].replace(SUBJECT_TO_ID), \n",
        "    features=content.iloc[:, 2:].apply(list, axis=1)\n",
        ")"
      ]
    },
    {
      "cell_type": "code",
      "execution_count": null,
      "metadata": {
        "id": "zphC5CAjLEQH"
      },
      "outputs": [],
      "source": [
        "# Show the first 5 rows of the new DataFrame\n",
        "nodes.head()"
      ]
    },
    {
      "cell_type": "code",
      "execution_count": null,
      "metadata": {
        "id": "DFV-1VaXXSto"
      },
      "outputs": [],
      "source": [
        "# Create a new DataFrame containing the relationships between the nodes.\n",
        "# To create the equivalent of an undirected graph, we need to add direct\n",
        "# and inverse relationships.\n",
        "dir_relationships = pd.DataFrame().assign(\n",
        "    sourceNodeId=cites[0],\n",
        "    targetNodeId=cites[1],\n",
        "    relationshipType=\"CITES\"\n",
        ")\n",
        "\n",
        "inv_relationships = pd.DataFrame().assign(\n",
        "    sourceNodeId=cites[1],\n",
        "    targetNodeId=cites[0],\n",
        "    relationshipType=\"CITES\"\n",
        ")\n",
        "\n",
        "relationships = pd.concat([dir_relationships, inv_relationships]).drop_duplicates()"
      ]
    },
    {
      "cell_type": "code",
      "execution_count": null,
      "metadata": {
        "id": "hPknS8xpramq"
      },
      "outputs": [],
      "source": [
        "# Show the first 20 rows of the new DataFrame\n",
        "relationships.head(5)"
      ]
    },
    {
      "cell_type": "code",
      "execution_count": null,
      "metadata": {
        "id": "_Uxi2_ZlBYxs"
      },
      "outputs": [],
      "source": [
        "# Finally, create the in-memory graph\n",
        "G = gds.alpha.graph.construct(\n",
        "    \"cora-graph\",\n",
        "    nodes,\n",
        "    relationships\n",
        ")"
      ]
    },
    {
      "cell_type": "code",
      "execution_count": null,
      "metadata": {
        "id": "UCql52oKgvCU"
      },
      "outputs": [],
      "source": [
        "# Check that the new graph has been created\n",
        "gds.graph.list()"
      ]
    },
    {
      "cell_type": "code",
      "execution_count": null,
      "metadata": {
        "id": "1d03lJjHKCAa"
      },
      "outputs": [],
      "source": [
        "# Count the nodes in the graph\n",
        "G.node_count()"
      ]
    },
    {
      "cell_type": "code",
      "execution_count": null,
      "metadata": {
        "id": "guJ26_NVJXOg"
      },
      "outputs": [],
      "source": [
        "# Get the value of the \"subject\" node property for\n",
        "# each node in the graph, printing only the first 5\n",
        "gds.graph.streamNodeProperties(G, [\"subject\"]).head()"
      ]
    },
    {
      "cell_type": "markdown",
      "metadata": {
        "id": "plRCiikGOofd"
      },
      "source": [
        "## Cleanup"
      ]
    },
    {
      "cell_type": "code",
      "execution_count": null,
      "metadata": {
        "id": "RFWzcrX3ORXI"
      },
      "outputs": [],
      "source": [
        "G.drop()"
      ]
    }
  ],
  "metadata": {
    "colab": {
      "authorship_tag": "ABX9TyMXxjbO8abXpeB4qwNFTfgp",
      "collapsed_sections": [],
      "include_colab_link": true,
      "name": "Load data to projected graph via graph construction",
      "provenance": []
    },
    "kernelspec": {
      "display_name": "Python 3.10.5 64-bit",
      "language": "python",
      "name": "python3"
    },
    "language_info": {
      "name": "python",
      "version": "3.10.5"
    },
    "vscode": {
      "interpreter": {
        "hash": "a0a5145e6c304e2a9afaf5b930a2955b950bd4b81fe94f7c42930f43f42762eb"
      }
    }
  },
  "nbformat": 4,
  "nbformat_minor": 0
}
